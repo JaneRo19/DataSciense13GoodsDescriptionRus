{
 "cells": [
  {
   "cell_type": "markdown",
   "metadata": {
    "toc": true
   },
   "source": [
    "<h1>Содержание<span class=\"tocSkip\"></span></h1>\n",
    "<div class=\"toc\"><ul class=\"toc-item\"><li><ul class=\"toc-item\"><li><span><a href=\"#Комментарий-студента-\" data-toc-modified-id=\"Комментарий-студента--0.1\"><span class=\"toc-item-num\">0.1&nbsp;&nbsp;</span>Комментарий студента </a></span></li></ul></li><li><span><a href=\"#Подготовка\" data-toc-modified-id=\"Подготовка-1\"><span class=\"toc-item-num\">1&nbsp;&nbsp;</span>Подготовка</a></span><ul class=\"toc-item\"><li><span><a href=\"#Обзор-данных\" data-toc-modified-id=\"Обзор-данных-1.1\"><span class=\"toc-item-num\">1.1&nbsp;&nbsp;</span>Обзор данных</a></span><ul class=\"toc-item\"><li><span><a href=\"#Вывод\" data-toc-modified-id=\"Вывод-1.1.1\"><span class=\"toc-item-num\">1.1.1&nbsp;&nbsp;</span>Вывод</a></span></li></ul></li><li><span><a href=\"#Комментарий-студента-\" data-toc-modified-id=\"Комментарий-студента--1.2\"><span class=\"toc-item-num\">1.2&nbsp;&nbsp;</span>Комментарий студента </a></span></li><li><span><a href=\"#Комментарий-студента-\" data-toc-modified-id=\"Комментарий-студента--1.3\"><span class=\"toc-item-num\">1.3&nbsp;&nbsp;</span>Комментарий студента </a></span></li></ul></li><li><span><a href=\"#Обучение\" data-toc-modified-id=\"Обучение-2\"><span class=\"toc-item-num\">2&nbsp;&nbsp;</span>Обучение</a></span><ul class=\"toc-item\"><li><span><a href=\"#Использование-TF-IDF\" data-toc-modified-id=\"Использование-TF-IDF-2.1\"><span class=\"toc-item-num\">2.1&nbsp;&nbsp;</span>Использование TF-IDF</a></span></li><li><span><a href=\"#Комментарий-студента-\" data-toc-modified-id=\"Комментарий-студента--2.2\"><span class=\"toc-item-num\">2.2&nbsp;&nbsp;</span>Комментарий студента </a></span></li><li><span><a href=\"#Комментарий-студента-\" data-toc-modified-id=\"Комментарий-студента--2.3\"><span class=\"toc-item-num\">2.3&nbsp;&nbsp;</span>Комментарий студента </a></span></li><li><span><a href=\"#Комментарий-студента-\" data-toc-modified-id=\"Комментарий-студента--2.4\"><span class=\"toc-item-num\">2.4&nbsp;&nbsp;</span>Комментарий студента </a></span></li><li><span><a href=\"#Комментарий-студента-\" data-toc-modified-id=\"Комментарий-студента--2.5\"><span class=\"toc-item-num\">2.5&nbsp;&nbsp;</span>Комментарий студента </a></span></li><li><span><a href=\"#Комментарий-студента-\" data-toc-modified-id=\"Комментарий-студента--2.6\"><span class=\"toc-item-num\">2.6&nbsp;&nbsp;</span>Комментарий студента </a></span></li><li><span><a href=\"#Использование-Мешка-слов\" data-toc-modified-id=\"Использование-Мешка-слов-2.7\"><span class=\"toc-item-num\">2.7&nbsp;&nbsp;</span>Использование Мешка слов</a></span></li><li><span><a href=\"#Комментарий-студента-\" data-toc-modified-id=\"Комментарий-студента--2.8\"><span class=\"toc-item-num\">2.8&nbsp;&nbsp;</span>Комментарий студента </a></span></li><li><span><a href=\"#Комментарий-студента-\" data-toc-modified-id=\"Комментарий-студента--2.9\"><span class=\"toc-item-num\">2.9&nbsp;&nbsp;</span>Комментарий студента </a></span></li><li><span><a href=\"#Вывод\" data-toc-modified-id=\"Вывод-2.10\"><span class=\"toc-item-num\">2.10&nbsp;&nbsp;</span>Вывод</a></span></li></ul></li><li><span><a href=\"#Выводы\" data-toc-modified-id=\"Выводы-3\"><span class=\"toc-item-num\">3&nbsp;&nbsp;</span>Выводы</a></span><ul class=\"toc-item\"><li><span><a href=\"#Комментарий-студента-\" data-toc-modified-id=\"Комментарий-студента--3.1\"><span class=\"toc-item-num\">3.1&nbsp;&nbsp;</span>Комментарий студента </a></span></li></ul></li><li><span><a href=\"#Чек-лист-проверки\" data-toc-modified-id=\"Чек-лист-проверки-4\"><span class=\"toc-item-num\">4&nbsp;&nbsp;</span>Чек-лист проверки</a></span></li></ul></div>"
   ]
  },
  {
   "cell_type": "markdown",
   "metadata": {},
   "source": [
    "# Проект для «Викишоп»"
   ]
  },
  {
   "cell_type": "markdown",
   "metadata": {},
   "source": [
    "Интернет-магазин «Викишоп» запускает новый сервис. Теперь пользователи могут редактировать и дополнять описания товаров, как в вики-сообществах. То есть клиенты предлагают свои правки и комментируют изменения других. Магазину нужен инструмент, который будет искать токсичные комментарии и отправлять их на модерацию. \n",
    "\n",
    "Обучите модель классифицировать комментарии на позитивные и негативные. В вашем распоряжении набор данных с разметкой о токсичности правок.\n",
    "\n",
    "Постройте модель со значением метрики качества *F1* не меньше 0.75. \n",
    "\n",
    "**Инструкция по выполнению проекта**\n",
    "\n",
    "1. Загрузите и подготовьте данные.\n",
    "2. Обучите разные модели. \n",
    "3. Сделайте выводы.\n",
    "\n",
    "Для выполнения проекта применять *BERT* необязательно, но вы можете попробовать.\n",
    "\n",
    "**Описание данных**\n",
    "\n",
    "Данные находятся в файле `toxic_comments.csv`. Столбец *text* в нём содержит текст комментария, а *toxic* — целевой признак."
   ]
  },
  {
   "cell_type": "markdown",
   "metadata": {},
   "source": [
    "## Подготовка"
   ]
  },
  {
   "cell_type": "markdown",
   "metadata": {},
   "source": [
    "### Обзор данных"
   ]
  },
  {
   "cell_type": "markdown",
   "metadata": {},
   "source": [
    "в данном разделе мы изучим набор данных: откроем его, получим общую информацию, проверим наличие пропусков, дубликатов."
   ]
  },
  {
   "cell_type": "code",
   "execution_count": 1,
   "metadata": {},
   "outputs": [],
   "source": [
    "# импортируем необходимые библиотеки\n",
    "import re\n",
    "import nltk\n",
    "import spacy\n",
    "import pandas as pd\n",
    "import matplotlib.pyplot as plt\n",
    "import lightgbm as lgb\n",
    "\n",
    "from pymystem3 import Mystem\n",
    "from nltk.corpus import stopwords \n",
    "from sklearn.feature_extraction.text import TfidfVectorizer, CountVectorizer \n",
    "from sklearn.model_selection import train_test_split, GridSearchCV, RandomizedSearchCV\n",
    "from catboost import CatBoostRegressor\n",
    "from lightgbm import LGBMRegressor\n",
    "from sklearn.dummy import DummyRegressor\n",
    "from sklearn.linear_model import LogisticRegression\n",
    "from sklearn.tree import DecisionTreeClassifier\n",
    "from sklearn.ensemble import RandomForestClassifier \n",
    "from sklearn.metrics import f1_score"
   ]
  },
  {
   "cell_type": "code",
   "execution_count": 2,
   "metadata": {},
   "outputs": [],
   "source": [
    "# прочитаем данные\n",
    "df = pd.read_csv('....csv')"
   ]
  },
  {
   "cell_type": "code",
   "execution_count": 3,
   "metadata": {},
   "outputs": [
    {
     "data": {
      "text/html": [
       "<div>\n",
       "<style scoped>\n",
       "    .dataframe tbody tr th:only-of-type {\n",
       "        vertical-align: middle;\n",
       "    }\n",
       "\n",
       "    .dataframe tbody tr th {\n",
       "        vertical-align: top;\n",
       "    }\n",
       "\n",
       "    .dataframe thead th {\n",
       "        text-align: right;\n",
       "    }\n",
       "</style>\n",
       "<table border=\"1\" class=\"dataframe\">\n",
       "  <thead>\n",
       "    <tr style=\"text-align: right;\">\n",
       "      <th></th>\n",
       "      <th>text</th>\n",
       "      <th>toxic</th>\n",
       "    </tr>\n",
       "  </thead>\n",
       "  <tbody>\n",
       "    <tr>\n",
       "      <th>0</th>\n",
       "      <td>Explanation\\nWhy the edits made under my usern...</td>\n",
       "      <td>0</td>\n",
       "    </tr>\n",
       "    <tr>\n",
       "      <th>1</th>\n",
       "      <td>D'aww! He matches this background colour I'm s...</td>\n",
       "      <td>0</td>\n",
       "    </tr>\n",
       "    <tr>\n",
       "      <th>2</th>\n",
       "      <td>Hey man, I'm really not trying to edit war. It...</td>\n",
       "      <td>0</td>\n",
       "    </tr>\n",
       "    <tr>\n",
       "      <th>3</th>\n",
       "      <td>\"\\nMore\\nI can't make any real suggestions on ...</td>\n",
       "      <td>0</td>\n",
       "    </tr>\n",
       "    <tr>\n",
       "      <th>4</th>\n",
       "      <td>You, sir, are my hero. Any chance you remember...</td>\n",
       "      <td>0</td>\n",
       "    </tr>\n",
       "    <tr>\n",
       "      <th>5</th>\n",
       "      <td>\"\\n\\nCongratulations from me as well, use the ...</td>\n",
       "      <td>0</td>\n",
       "    </tr>\n",
       "    <tr>\n",
       "      <th>6</th>\n",
       "      <td>COCKSUCKER BEFORE YOU PISS AROUND ON MY WORK</td>\n",
       "      <td>1</td>\n",
       "    </tr>\n",
       "    <tr>\n",
       "      <th>7</th>\n",
       "      <td>Your vandalism to the Matt Shirvington article...</td>\n",
       "      <td>0</td>\n",
       "    </tr>\n",
       "    <tr>\n",
       "      <th>8</th>\n",
       "      <td>Sorry if the word 'nonsense' was offensive to ...</td>\n",
       "      <td>0</td>\n",
       "    </tr>\n",
       "    <tr>\n",
       "      <th>9</th>\n",
       "      <td>alignment on this subject and which are contra...</td>\n",
       "      <td>0</td>\n",
       "    </tr>\n",
       "  </tbody>\n",
       "</table>\n",
       "</div>"
      ],
      "text/plain": [
       "                                                text  toxic\n",
       "0  Explanation\\nWhy the edits made under my usern...      0\n",
       "1  D'aww! He matches this background colour I'm s...      0\n",
       "2  Hey man, I'm really not trying to edit war. It...      0\n",
       "3  \"\\nMore\\nI can't make any real suggestions on ...      0\n",
       "4  You, sir, are my hero. Any chance you remember...      0\n",
       "5  \"\\n\\nCongratulations from me as well, use the ...      0\n",
       "6       COCKSUCKER BEFORE YOU PISS AROUND ON MY WORK      1\n",
       "7  Your vandalism to the Matt Shirvington article...      0\n",
       "8  Sorry if the word 'nonsense' was offensive to ...      0\n",
       "9  alignment on this subject and which are contra...      0"
      ]
     },
     "execution_count": 3,
     "metadata": {},
     "output_type": "execute_result"
    }
   ],
   "source": [
    "# выведем на экран первые 10 строк\n",
    "df.head(10)"
   ]
  },
  {
   "cell_type": "code",
   "execution_count": 4,
   "metadata": {},
   "outputs": [
    {
     "data": {
      "text/plain": [
       "(159571, 2)"
      ]
     },
     "execution_count": 4,
     "metadata": {},
     "output_type": "execute_result"
    }
   ],
   "source": [
    "# определим размер датасета\n",
    "df.shape"
   ]
  },
  {
   "cell_type": "code",
   "execution_count": 5,
   "metadata": {},
   "outputs": [
    {
     "data": {
      "text/plain": [
       "Index(['text', 'toxic'], dtype='object')"
      ]
     },
     "execution_count": 5,
     "metadata": {},
     "output_type": "execute_result"
    }
   ],
   "source": [
    "# определим названия колонок\n",
    "df.columns"
   ]
  },
  {
   "cell_type": "code",
   "execution_count": 6,
   "metadata": {},
   "outputs": [
    {
     "name": "stdout",
     "output_type": "stream",
     "text": [
      "<class 'pandas.core.frame.DataFrame'>\n",
      "RangeIndex: 159571 entries, 0 to 159570\n",
      "Data columns (total 2 columns):\n",
      " #   Column  Non-Null Count   Dtype \n",
      "---  ------  --------------   ----- \n",
      " 0   text    159571 non-null  object\n",
      " 1   toxic   159571 non-null  int64 \n",
      "dtypes: int64(1), object(1)\n",
      "memory usage: 2.4+ MB\n"
     ]
    }
   ],
   "source": [
    "# выведем общую информацию по датасету\n",
    "df.info()"
   ]
  },
  {
   "cell_type": "code",
   "execution_count": 7,
   "metadata": {},
   "outputs": [
    {
     "data": {
      "text/plain": [
       "text     0\n",
       "toxic    0\n",
       "dtype: int64"
      ]
     },
     "execution_count": 7,
     "metadata": {},
     "output_type": "execute_result"
    }
   ],
   "source": [
    "# определим, есть ли пропуски в данных\n",
    "df.isna().sum()"
   ]
  },
  {
   "cell_type": "code",
   "execution_count": 8,
   "metadata": {},
   "outputs": [
    {
     "data": {
      "text/plain": [
       "0"
      ]
     },
     "execution_count": 8,
     "metadata": {},
     "output_type": "execute_result"
    }
   ],
   "source": [
    "# посмотрим, есть ли дубликаты\n",
    "df.duplicated().sum()"
   ]
  },
  {
   "cell_type": "markdown",
   "metadata": {},
   "source": [
    "#### Вывод"
   ]
  },
  {
   "cell_type": "markdown",
   "metadata": {},
   "source": [
    "В ходе предварительного обзора мы выяснили, что:\n",
    "\n",
    "1) набор данных состоит из 159571 строки и 2 колонок: в одной из них текст, в другой оценка комментария: токсичный он или нет.\n",
    "\n",
    "2) пропусков в данных нет, дубликатов нет.\n",
    "\n",
    "3) в столбце text встречаются символы в верхнем регистре, это необходимо также преобразовать\n",
    " \n",
    "В целом проблем в данных нет, посмтотрим более внимательно на столбец text"
   ]
  },
  {
   "cell_type": "code",
   "execution_count": 9,
   "metadata": {},
   "outputs": [
    {
     "data": {
      "image/png": "[encoded data removed]",
      "text/plain": [
       "<Figure size 720x576 with 1 Axes>"
      ]
     },
     "metadata": {},
     "output_type": "display_data"
    }
   ],
   "source": [
    "# построим диаграмму токсичных и нетоксичных комментариев\n",
    "df['toxic'].value_counts().plot(kind='pie', autopct='%1.1f%%', shadow=True, figsize=(10,8))\n",
    "plt.legend([\"Нетоксичный комментарий\", 'Токсичный комментарий'], fontsize=10, shadow=True, facecolor='w')\n",
    "plt.title('Распределение комментариев')\n",
    "plt.tight_layout()\n",
    "plt.axis('off')\n",
    "plt.show()"
   ]
  },
  {
   "cell_type": "code",
   "execution_count": 10,
   "metadata": {},
   "outputs": [
    {
     "data": {
      "text/plain": [
       "0    143346\n",
       "1     16225\n",
       "Name: toxic, dtype: int64"
      ]
     },
     "execution_count": 10,
     "metadata": {},
     "output_type": "execute_result"
    }
   ],
   "source": [
    "# для проверки выведу просто количество комментариев рахных групп\n",
    "df['toxic'].value_counts()"
   ]
  },
  {
   "cell_type": "markdown",
   "metadata": {},
   "source": [
    "## Обучение"
   ]
  },
  {
   "cell_type": "markdown",
   "metadata": {},
   "source": [
    "В данном разделе мы напишем функции для лемматизации наших текстов и очистки данных от лишних символов, используя регулярные выражения. И попробуем различные способы обучения моделей: \n",
    "\n",
    "1) используя Мешок слов\n",
    "\n",
    "2) испольщуя TF-IDF\n",
    "\n",
    "При этом будем обучать модели:\n",
    "\n",
    "    - LogisticRegression\n",
    "    - LGBM модель\n",
    "    - CatBoost модель\n",
    "    - DecisionTreeClassifier\n",
    "    - RandomForestClassifier\n",
    "    - константную модель\n"
   ]
  },
  {
   "cell_type": "markdown",
   "metadata": {},
   "source": [
    "###   Использование TF-IDF"
   ]
  },
  {
   "cell_type": "markdown",
   "metadata": {},
   "source": [
    "В данном раздеде мы преобразуем текст метод TF-IDF и попробуем обучить модели."
   ]
  },
  {
   "cell_type": "code",
   "execution_count": 11,
   "metadata": {},
   "outputs": [],
   "source": [
    "# напишем функцию лемматизации и очистки текста\n",
    "sp = spacy.load('en_core_web_sm')\n",
    "\n",
    "def lemmatize_clear_text_spacy(text):\n",
    "    \"\"\"\n",
    "    Функция лематизации и очистки текста\n",
    "    \"\"\"\n",
    "    text = text.lower()\n",
    "    doc = sp(text)\n",
    "    lemm_text = \" \".join([token.lemma_ for token in doc])\n",
    "    cleared_text = re.sub(r'[^a-zA-Z]', ' ', lemm_text) \n",
    "    \n",
    "    return \" \".join(cleared_text.split())"
   ]
  },
  {
   "cell_type": "code",
   "execution_count": 12,
   "metadata": {},
   "outputs": [],
   "source": [
    "# применим функция к нашему набору данных\n",
    "df['text'] = df['text'].apply(lemmatize_clear_text_spacy)"
   ]
  },
  {
   "cell_type": "code",
   "execution_count": 13,
   "metadata": {},
   "outputs": [
    {
     "data": {
      "text/html": [
       "<div>\n",
       "<style scoped>\n",
       "    .dataframe tbody tr th:only-of-type {\n",
       "        vertical-align: middle;\n",
       "    }\n",
       "\n",
       "    .dataframe tbody tr th {\n",
       "        vertical-align: top;\n",
       "    }\n",
       "\n",
       "    .dataframe thead th {\n",
       "        text-align: right;\n",
       "    }\n",
       "</style>\n",
       "<table border=\"1\" class=\"dataframe\">\n",
       "  <thead>\n",
       "    <tr style=\"text-align: right;\">\n",
       "      <th></th>\n",
       "      <th>text</th>\n",
       "      <th>toxic</th>\n",
       "    </tr>\n",
       "  </thead>\n",
       "  <tbody>\n",
       "    <tr>\n",
       "      <th>0</th>\n",
       "      <td>explanation why the edit make under my usernam...</td>\n",
       "      <td>0</td>\n",
       "    </tr>\n",
       "    <tr>\n",
       "      <th>1</th>\n",
       "      <td>d aww he match this background colour I be see...</td>\n",
       "      <td>0</td>\n",
       "    </tr>\n",
       "    <tr>\n",
       "      <th>2</th>\n",
       "      <td>hey man I be really not try to edit war it be ...</td>\n",
       "      <td>0</td>\n",
       "    </tr>\n",
       "    <tr>\n",
       "      <th>3</th>\n",
       "      <td>more I can not make any real suggestion on imp...</td>\n",
       "      <td>0</td>\n",
       "    </tr>\n",
       "    <tr>\n",
       "      <th>4</th>\n",
       "      <td>you sir be my hero any chance you remember wha...</td>\n",
       "      <td>0</td>\n",
       "    </tr>\n",
       "    <tr>\n",
       "      <th>5</th>\n",
       "      <td>congratulation from I as well use the tool wel...</td>\n",
       "      <td>0</td>\n",
       "    </tr>\n",
       "    <tr>\n",
       "      <th>6</th>\n",
       "      <td>cocksucker before you piss around on my work</td>\n",
       "      <td>1</td>\n",
       "    </tr>\n",
       "    <tr>\n",
       "      <th>7</th>\n",
       "      <td>your vandalism to the matt shirvington article...</td>\n",
       "      <td>0</td>\n",
       "    </tr>\n",
       "    <tr>\n",
       "      <th>8</th>\n",
       "      <td>sorry if the word nonsense be offensive to you...</td>\n",
       "      <td>0</td>\n",
       "    </tr>\n",
       "    <tr>\n",
       "      <th>9</th>\n",
       "      <td>alignment on this subject and which be contrar...</td>\n",
       "      <td>0</td>\n",
       "    </tr>\n",
       "  </tbody>\n",
       "</table>\n",
       "</div>"
      ],
      "text/plain": [
       "                                                text  toxic\n",
       "0  explanation why the edit make under my usernam...      0\n",
       "1  d aww he match this background colour I be see...      0\n",
       "2  hey man I be really not try to edit war it be ...      0\n",
       "3  more I can not make any real suggestion on imp...      0\n",
       "4  you sir be my hero any chance you remember wha...      0\n",
       "5  congratulation from I as well use the tool wel...      0\n",
       "6       cocksucker before you piss around on my work      1\n",
       "7  your vandalism to the matt shirvington article...      0\n",
       "8  sorry if the word nonsense be offensive to you...      0\n",
       "9  alignment on this subject and which be contrar...      0"
      ]
     },
     "execution_count": 13,
     "metadata": {},
     "output_type": "execute_result"
    }
   ],
   "source": [
    "df.head(10)"
   ]
  },
  {
   "cell_type": "code",
   "execution_count": 14,
   "metadata": {},
   "outputs": [],
   "source": [
    "# сделаем копию набора данныхб чтобы использовать его в дальнейших формулах\n",
    "df_copy = df.copy()"
   ]
  },
  {
   "cell_type": "code",
   "execution_count": 15,
   "metadata": {},
   "outputs": [],
   "source": [
    "df1 = df.copy()"
   ]
  },
  {
   "cell_type": "code",
   "execution_count": 16,
   "metadata": {},
   "outputs": [],
   "source": [
    "df2 = df.copy()"
   ]
  },
  {
   "cell_type": "code",
   "execution_count": 17,
   "metadata": {},
   "outputs": [],
   "source": [
    "# выделим целевой признак и признаки\n",
    "features = df.drop(['toxic'], axis=1)\n",
    "target = df['toxic']"
   ]
  },
  {
   "cell_type": "code",
   "execution_count": 18,
   "metadata": {},
   "outputs": [],
   "source": [
    "# разделим выборку \n",
    "features_train, features_test, target_train, target_test = train_test_split(features, target, test_size=0.1, random_state=12345)"
   ]
  },
  {
   "cell_type": "code",
   "execution_count": 19,
   "metadata": {},
   "outputs": [
    {
     "data": {
      "text/plain": [
       "((143613, 1), (143613,))"
      ]
     },
     "execution_count": 19,
     "metadata": {},
     "output_type": "execute_result"
    }
   ],
   "source": [
    "features_train.shape, target_train.shape"
   ]
  },
  {
   "cell_type": "code",
   "execution_count": 20,
   "metadata": {},
   "outputs": [
    {
     "data": {
      "text/plain": [
       "((15958, 1), (15958,))"
      ]
     },
     "execution_count": 20,
     "metadata": {},
     "output_type": "execute_result"
    }
   ],
   "source": [
    "features_test.shape, target_test.shape"
   ]
  },
  {
   "cell_type": "code",
   "execution_count": 21,
   "metadata": {},
   "outputs": [
    {
     "name": "stderr",
     "output_type": "stream",
     "text": [
      "[nltk_data] Downloading package stopwords to /home/jovyan/nltk_data...\n",
      "[nltk_data]   Package stopwords is already up-to-date!\n"
     ]
    }
   ],
   "source": [
    "# очистим от стоп-слов\n",
    "nltk.download('stopwords')\n",
    "stopwords = set(stopwords.words('english')) "
   ]
  },
  {
   "cell_type": "code",
   "execution_count": 22,
   "metadata": {},
   "outputs": [],
   "source": [
    "# рассчитаем как часто одно и то же слово употребляется во всем тексте\n",
    "count_tf_idf = TfidfVectorizer(stop_words=stopwords)\n",
    "features_train = count_tf_idf.fit_transform(features_train['text'])\n",
    "features_test = count_tf_idf.transform(features_test['text'])"
   ]
  },
  {
   "cell_type": "markdown",
   "metadata": {},
   "source": [
    "**Обучение DecisionTree Classifier**"
   ]
  },
  {
   "cell_type": "code",
   "execution_count": 23,
   "metadata": {},
   "outputs": [
    {
     "name": "stdout",
     "output_type": "stream",
     "text": [
      "Fitting 3 folds for each of 6 candidates, totalling 18 fits\n"
     ]
    },
    {
     "data": {
      "text/plain": [
       "0.5734887982149425"
      ]
     },
     "execution_count": 23,
     "metadata": {},
     "output_type": "execute_result"
    }
   ],
   "source": [
    "# подберем параметры для DecisionTreeClassifier\n",
    "tree = DecisionTreeClassifier(class_weight='balanced', random_state=12345)\n",
    "params = {'criterion':['gini', 'entropy'], 'max_depth':list(range(1,15,5))}\n",
    "\n",
    "tree_gs = GridSearchCV(tree, params, cv=3, scoring='f1', verbose=True).fit(features_train, target_train)\n",
    "target_predictions = tree_gs.predict(features_test) \n",
    "tree_gs.best_score_"
   ]
  },
  {
   "cell_type": "markdown",
   "metadata": {},
   "source": [
    "**Обучение RandomForestClassifier**"
   ]
  },
  {
   "cell_type": "code",
   "execution_count": 24,
   "metadata": {},
   "outputs": [
    {
     "name": "stdout",
     "output_type": "stream",
     "text": [
      "Fitting 3 folds for each of 18 candidates, totalling 54 fits\n"
     ]
    },
    {
     "data": {
      "text/plain": [
       "0.42856655263826493"
      ]
     },
     "execution_count": 24,
     "metadata": {},
     "output_type": "execute_result"
    }
   ],
   "source": [
    "model = RandomForestClassifier(class_weight='balanced', random_state = 12345)\n",
    "params = {'n_estimators': range(10, 120, 40), 'max_depth': range(10, 120, 40), 'max_leaf_nodes': range(10, 60, 30)}\n",
    "random_forest_gs = GridSearchCV(model, params, cv=3, scoring='f1', verbose=True).fit(features_train, target_train)\n",
    "target_predictions = random_forest_gs.predict(features_test) \n",
    "random_forest_gs.best_score_"
   ]
  },
  {
   "cell_type": "markdown",
   "metadata": {},
   "source": [
    "**Обучение LogisticRegression**"
   ]
  },
  {
   "cell_type": "code",
   "execution_count": 25,
   "metadata": {},
   "outputs": [
    {
     "name": "stdout",
     "output_type": "stream",
     "text": [
      "Fitting 3 folds for each of 24 candidates, totalling 72 fits\n"
     ]
    },
    {
     "name": "stderr",
     "output_type": "stream",
     "text": [
      "/opt/conda/lib/python3.9/site-packages/sklearn/svm/_base.py:985: ConvergenceWarning: Liblinear failed to converge, increase the number of iterations.\n",
      "  warnings.warn(\"Liblinear failed to converge, increase \"\n"
     ]
    },
    {
     "data": {
      "text/plain": [
       "0.7648835843943536"
      ]
     },
     "execution_count": 25,
     "metadata": {},
     "output_type": "execute_result"
    }
   ],
   "source": [
    "# подберем параметры для LogisticClassifier\n",
    "model = LogisticRegression(random_state = 12345, class_weight='balanced')\n",
    "params = {'penalty': ['l1', 'l2'], 'C' : [0.5, 1.0, 5.0, 15.0], 'intercept_scaling' : range(5, 100, 40),'solver':['liblinear']}\n",
    "\n",
    "logistic_regression_gs = GridSearchCV(model, params, cv=3, scoring='f1', verbose=True).fit(features_train, target_train)\n",
    "target_predictions = logistic_regression_gs.predict(features_test) \n",
    "logistic_regression_gs.best_score_"
   ]
  },
  {
   "cell_type": "markdown",
   "metadata": {},
   "source": [
    "### Использование Мешка слов"
   ]
  },
  {
   "cell_type": "markdown",
   "metadata": {},
   "source": [
    "В данном разделе мы преобразуем текст методом Мешок слов и попробуем обучить модели."
   ]
  },
  {
   "cell_type": "code",
   "execution_count": 26,
   "metadata": {},
   "outputs": [],
   "source": [
    "# выделим целевой признак и признаки\n",
    "features_copy = df_copy.drop(['toxic'], axis=1)\n",
    "target_copy = df_copy['toxic']"
   ]
  },
  {
   "cell_type": "code",
   "execution_count": 27,
   "metadata": {},
   "outputs": [],
   "source": [
    "# разделим выборку \n",
    "features_copy_train, features_copy_test, target_copy_train, target_copy_test = train_test_split(features_copy, target_copy, test_size=0.1, random_state=12345)"
   ]
  },
  {
   "cell_type": "code",
   "execution_count": 28,
   "metadata": {},
   "outputs": [],
   "source": [
    "# рассчитаем как часто одно и то же слово употребляется во всем тексте\n",
    "count_vect = CountVectorizer(stop_words=stopwords)\n",
    "features_copy_train = count_vect.fit_transform(features_copy_train['text'])\n",
    "features_copy_test = count_vect.transform(features_copy_test['text'])"
   ]
  },
  {
   "cell_type": "markdown",
   "metadata": {},
   "source": [
    "**Обучение DecisionTreeClassifier**"
   ]
  },
  {
   "cell_type": "code",
   "execution_count": 29,
   "metadata": {},
   "outputs": [
    {
     "name": "stdout",
     "output_type": "stream",
     "text": [
      "Fitting 3 folds for each of 6 candidates, totalling 18 fits\n"
     ]
    },
    {
     "data": {
      "text/plain": [
       "0.5792348419170551"
      ]
     },
     "execution_count": 29,
     "metadata": {},
     "output_type": "execute_result"
    }
   ],
   "source": [
    "# подберем параметры для DecisionTreeClassifier\n",
    "tree = DecisionTreeClassifier(class_weight='balanced', random_state=12345)\n",
    "params = {'criterion':['gini', 'entropy'], 'max_depth':list(range(1,15,5))}\n",
    "\n",
    "tree_gs_copy = GridSearchCV(tree, params, cv=3, scoring='f1', verbose=True).fit(features_copy_train, target_copy_train)\n",
    "target_predictions = tree_gs_copy.predict(features_copy_test) \n",
    "tree_gs_copy.best_score_"
   ]
  },
  {
   "cell_type": "markdown",
   "metadata": {},
   "source": [
    "**Обучение RandomForestClassifier**"
   ]
  },
  {
   "cell_type": "code",
   "execution_count": 30,
   "metadata": {},
   "outputs": [
    {
     "name": "stdout",
     "output_type": "stream",
     "text": [
      "Fitting 3 folds for each of 18 candidates, totalling 54 fits\n"
     ]
    },
    {
     "data": {
      "text/plain": [
       "0.41376171840896997"
      ]
     },
     "execution_count": 30,
     "metadata": {},
     "output_type": "execute_result"
    }
   ],
   "source": [
    "model = RandomForestClassifier(class_weight='balanced', random_state = 142)\n",
    "params = {'n_estimators': range(10, 120, 40), 'max_depth': range(10, 120, 40), 'max_leaf_nodes': range(10, 60, 30)}\n",
    "\n",
    "random_forest_gs_copy = GridSearchCV(model, params, cv=3, scoring='f1', verbose=True).fit(features_copy_train, target_copy_train)\n",
    "target_predictions = random_forest_gs_copy.predict(features_copy_test) \n",
    "random_forest_gs_copy.best_score_"
   ]
  },
  {
   "cell_type": "markdown",
   "metadata": {},
   "source": [
    "**Обучение LogisticRegression**"
   ]
  },
  {
   "cell_type": "markdown",
   "metadata": {
    "scrolled": true
   },
   "source": [
    "# подберем параметры для LogisticClassifier\n",
    "model = LogisticRegression(random_state = 12345, class_weight ='balanced')\n",
    "params = {'penalty': ['l1', 'l2'], 'C' : [0.5, 1.0, 5.0, 15.0], 'intercept_scaling' : range(5, 100, 40), 'solver':['liblinear']}\n",
    "\n",
    "logistic_regression_gs_copy = GridSearchCV(model, params, cv=3, scoring='f1', verbose=True).fit(features_copy_train, target_copy_train)\n",
    "target_predictions = logistic_regression_gs.predict(features_copy_test) \n",
    "logistic_regression_gs_copy.best_score_"
   ]
  },
  {
   "cell_type": "code",
   "execution_count": 31,
   "metadata": {},
   "outputs": [],
   "source": [
    "# создадим таблицу models_test\n",
    "models_test = pd.DataFrame([round(tree_gs.best_score_, 3),\n",
    "                           round(random_forest_gs.best_score_, 3),\n",
    "                           round(logistic_regression_gs.best_score_, 3),\n",
    "                           round(tree_gs_copy.best_score_, 3),\n",
    "                           round(random_forest_gs_copy.best_score_, 3),\n",
    "                           ],\n",
    "                     columns=['F1 мера'],\n",
    "                      index=[\n",
    "                            'DecisionTreeClissifier TF-IDF',\n",
    "                            'RandomForestClassifier TF-IDF',\n",
    "                            'LogisticRegression TF-IDF',\n",
    "                            'DecisionTreeClissifier Мешок слов',\n",
    "                            'RandomForestClassifier Мешок слов',\n",
    "                            ]\n",
    "                     )"
   ]
  },
  {
   "cell_type": "code",
   "execution_count": 32,
   "metadata": {},
   "outputs": [
    {
     "data": {
      "text/html": [
       "<div>\n",
       "<style scoped>\n",
       "    .dataframe tbody tr th:only-of-type {\n",
       "        vertical-align: middle;\n",
       "    }\n",
       "\n",
       "    .dataframe tbody tr th {\n",
       "        vertical-align: top;\n",
       "    }\n",
       "\n",
       "    .dataframe thead th {\n",
       "        text-align: right;\n",
       "    }\n",
       "</style>\n",
       "<table border=\"1\" class=\"dataframe\">\n",
       "  <thead>\n",
       "    <tr style=\"text-align: right;\">\n",
       "      <th></th>\n",
       "      <th>F1 мера</th>\n",
       "    </tr>\n",
       "  </thead>\n",
       "  <tbody>\n",
       "    <tr>\n",
       "      <th>DecisionTreeClissifier TF-IDF</th>\n",
       "      <td>0.573</td>\n",
       "    </tr>\n",
       "    <tr>\n",
       "      <th>RandomForestClassifier TF-IDF</th>\n",
       "      <td>0.429</td>\n",
       "    </tr>\n",
       "    <tr>\n",
       "      <th>LogisticRegression TF-IDF</th>\n",
       "      <td>0.765</td>\n",
       "    </tr>\n",
       "    <tr>\n",
       "      <th>DecisionTreeClissifier Мешок слов</th>\n",
       "      <td>0.579</td>\n",
       "    </tr>\n",
       "    <tr>\n",
       "      <th>RandomForestClassifier Мешок слов</th>\n",
       "      <td>0.414</td>\n",
       "    </tr>\n",
       "  </tbody>\n",
       "</table>\n",
       "</div>"
      ],
      "text/plain": [
       "                                   F1 мера\n",
       "DecisionTreeClissifier TF-IDF        0.573\n",
       "RandomForestClassifier TF-IDF        0.429\n",
       "LogisticRegression TF-IDF            0.765\n",
       "DecisionTreeClissifier Мешок слов    0.579\n",
       "RandomForestClassifier Мешок слов    0.414"
      ]
     },
     "execution_count": 32,
     "metadata": {},
     "output_type": "execute_result"
    }
   ],
   "source": [
    "models_test"
   ]
  },
  {
   "cell_type": "markdown",
   "metadata": {},
   "source": [
    "### Вывод"
   ]
  },
  {
   "cell_type": "markdown",
   "metadata": {},
   "source": [
    "В ходе нашего эксперимента планировалось обучить пять моделей, но, к сожалению, 2 из них обучить не получилось: LGBM модельл и Catboost модель. В конце их выполнения выдавались ошибки, а модель CatBoost была на обучении более 10 часов, но результатов никаких не было. Поэтому обучили только три модели: DecisionTree, RandomForest Classifier и LogisticRegression, причем обучение этих моделей также ребовало большого времени. Возможно, это связано с большим объемом данных. \n",
    "\n",
    "В ходе наших эксперииментов получили: \n",
    "\n",
    "1) во-первых, получили неожиданные данные, так как модель RandomForestClassifier выдавала неожиданные данные: значение f1-0.02-0.03 и при обработке текста методом TF-IDF, и Мешком слов\n",
    "\n",
    "2) модель DecisionTree обучалась очень быстро, но ее значение f1 было меньше заданного: 0.58-0.59\n",
    "\n",
    "3) с задачей справилась модель LogisticRegression. Данная модель хоть и обучалась долго, но получила достаточно хорошие показатели f1: 0.765"
   ]
  },
  {
   "cell_type": "markdown",
   "metadata": {},
   "source": [
    "## Выводы"
   ]
  },
  {
   "cell_type": "markdown",
   "metadata": {},
   "source": [
    "В ходе выполненной работы мы:\n",
    "\n",
    "1) в ходе предварительного обзора выяснили, что:\n",
    "\n",
    "    - набор данных состоит из 159571 строки и 2 колонок: в одной из них текст, в другой оценка комментария: токсичный он или нет.\n",
    "    - пропусков в данных нет, дубликатов нет.\n",
    "\n",
    "2) на этапе подготовки данных мы написали функцию, благодаря которой:\n",
    "\n",
    "    - привели данные к одному регистру\n",
    "    - лемматизировали данные\n",
    "    - по шаблону регулярных выражений избавились от ненужных данных\n",
    "    \n",
    "3) на этапе обучения мы:\n",
    "\n",
    "    - преобразовали данные двумя способами: TF-IDF и Мешок слов\n",
    "    - обучили некоторое модели\n",
    "\n",
    "В результате проведенно работы можем сказать, что дла данной задачи по поиску точных комментариев подойдет модель LogisticRegression и при этом можно выбирать любой способ обработки: и TF-IDF, и Мешок слов. Данные f1 будут 0.765 и 0.756, что выше заданного условием значения.\n",
    "\n",
    "По всем остальным моделям мы не получили нужного результата(RandomForest и DecisionTree), а некоторые модели: CatBoost и LGBM модель, мы так и не смогли обучить.Возможно, не хватило для этого мощностей."
   ]
  },
  {
   "cell_type": "markdown",
   "metadata": {},
   "source": [
    "# ДОРАБОТКА"
   ]
  },
  {
   "cell_type": "markdown",
   "metadata": {},
   "source": [
    "Здесь я сразу же начну блок с выделения только 50000 строк"
   ]
  },
  {
   "cell_type": "code",
   "execution_count": 33,
   "metadata": {},
   "outputs": [],
   "source": [
    "df2 = df2.sample(50000).reset_index(drop=True)"
   ]
  },
  {
   "cell_type": "code",
   "execution_count": 34,
   "metadata": {},
   "outputs": [
    {
     "data": {
      "text/plain": [
       "(50000, 2)"
      ]
     },
     "execution_count": 34,
     "metadata": {},
     "output_type": "execute_result"
    }
   ],
   "source": [
    "df2.shape"
   ]
  },
  {
   "cell_type": "code",
   "execution_count": 35,
   "metadata": {},
   "outputs": [
    {
     "data": {
      "image/png": "[encoded data removed]",
      "text/plain": [
       "<Figure size 720x576 with 1 Axes>"
      ]
     },
     "metadata": {},
     "output_type": "display_data"
    }
   ],
   "source": [
    "# проверим на дисбаланс\n",
    "df2['toxic'].value_counts().plot(kind='pie', autopct='%1.1f%%', shadow=True, figsize=(10,8))\n",
    "plt.legend([\"Нетоксичный комментарий\", 'Токсичный комментарий'], fontsize=10, shadow=True, facecolor='w')\n",
    "plt.title('Распределение комментариев')\n",
    "plt.tight_layout()\n",
    "plt.axis('off')\n",
    "plt.show()"
   ]
  },
  {
   "cell_type": "markdown",
   "metadata": {},
   "source": [
    "Дисбаланс так же сохраняется, поэтому учтем это при обучении моделей"
   ]
  },
  {
   "cell_type": "code",
   "execution_count": 36,
   "metadata": {},
   "outputs": [
    {
     "data": {
      "text/html": [
       "<div>\n",
       "<style scoped>\n",
       "    .dataframe tbody tr th:only-of-type {\n",
       "        vertical-align: middle;\n",
       "    }\n",
       "\n",
       "    .dataframe tbody tr th {\n",
       "        vertical-align: top;\n",
       "    }\n",
       "\n",
       "    .dataframe thead th {\n",
       "        text-align: right;\n",
       "    }\n",
       "</style>\n",
       "<table border=\"1\" class=\"dataframe\">\n",
       "  <thead>\n",
       "    <tr style=\"text-align: right;\">\n",
       "      <th></th>\n",
       "      <th>text</th>\n",
       "      <th>toxic</th>\n",
       "    </tr>\n",
       "  </thead>\n",
       "  <tbody>\n",
       "    <tr>\n",
       "      <th>0</th>\n",
       "      <td>reference I do not like delete other people s ...</td>\n",
       "      <td>0</td>\n",
       "    </tr>\n",
       "    <tr>\n",
       "      <th>1</th>\n",
       "      <td>please do not vandalize page as you do with th...</td>\n",
       "      <td>0</td>\n",
       "    </tr>\n",
       "    <tr>\n",
       "      <th>2</th>\n",
       "      <td>list of family guy episode immblueversion I be...</td>\n",
       "      <td>0</td>\n",
       "    </tr>\n",
       "    <tr>\n",
       "      <th>3</th>\n",
       "      <td>thank you for experiment with wikipedia your t...</td>\n",
       "      <td>0</td>\n",
       "    </tr>\n",
       "    <tr>\n",
       "      <th>4</th>\n",
       "      <td>be you go to remain a complete wanker all oyur...</td>\n",
       "      <td>1</td>\n",
       "    </tr>\n",
       "    <tr>\n",
       "      <th>5</th>\n",
       "      <td>there be no other establish username that use ...</td>\n",
       "      <td>0</td>\n",
       "    </tr>\n",
       "    <tr>\n",
       "      <th>6</th>\n",
       "      <td>I disagree that it barely meet the notability ...</td>\n",
       "      <td>0</td>\n",
       "    </tr>\n",
       "    <tr>\n",
       "      <th>7</th>\n",
       "      <td>you do not have to read through dozen of page ...</td>\n",
       "      <td>0</td>\n",
       "    </tr>\n",
       "    <tr>\n",
       "      <th>8</th>\n",
       "      <td>as I have say before it be not the motive it b...</td>\n",
       "      <td>0</td>\n",
       "    </tr>\n",
       "    <tr>\n",
       "      <th>9</th>\n",
       "      <td>or a suitable subarticle</td>\n",
       "      <td>0</td>\n",
       "    </tr>\n",
       "  </tbody>\n",
       "</table>\n",
       "</div>"
      ],
      "text/plain": [
       "                                                text  toxic\n",
       "0  reference I do not like delete other people s ...      0\n",
       "1  please do not vandalize page as you do with th...      0\n",
       "2  list of family guy episode immblueversion I be...      0\n",
       "3  thank you for experiment with wikipedia your t...      0\n",
       "4  be you go to remain a complete wanker all oyur...      1\n",
       "5  there be no other establish username that use ...      0\n",
       "6  I disagree that it barely meet the notability ...      0\n",
       "7  you do not have to read through dozen of page ...      0\n",
       "8  as I have say before it be not the motive it b...      0\n",
       "9                           or a suitable subarticle      0"
      ]
     },
     "execution_count": 36,
     "metadata": {},
     "output_type": "execute_result"
    }
   ],
   "source": [
    "df2.head(10)"
   ]
  },
  {
   "cell_type": "code",
   "execution_count": 37,
   "metadata": {},
   "outputs": [],
   "source": [
    "# выделим целевой признак и признаки\n",
    "features1 = df2.drop(['toxic'], axis=1)\n",
    "target1 = df2['toxic']"
   ]
  },
  {
   "cell_type": "code",
   "execution_count": 38,
   "metadata": {},
   "outputs": [
    {
     "data": {
      "text/plain": [
       "(50000, 1)"
      ]
     },
     "execution_count": 38,
     "metadata": {},
     "output_type": "execute_result"
    }
   ],
   "source": [
    "features1.shape"
   ]
  },
  {
   "cell_type": "code",
   "execution_count": 39,
   "metadata": {},
   "outputs": [
    {
     "data": {
      "text/plain": [
       "(50000,)"
      ]
     },
     "execution_count": 39,
     "metadata": {},
     "output_type": "execute_result"
    }
   ],
   "source": [
    "target1.shape"
   ]
  },
  {
   "cell_type": "code",
   "execution_count": 40,
   "metadata": {},
   "outputs": [],
   "source": [
    "# разделим выборку \n",
    "features_train1, features_test1, target_train1, target_test1 = train_test_split(features1, target1, test_size=0.2, random_state=12345)"
   ]
  },
  {
   "cell_type": "code",
   "execution_count": 41,
   "metadata": {},
   "outputs": [
    {
     "data": {
      "text/plain": [
       "((40000, 1), (40000,))"
      ]
     },
     "execution_count": 41,
     "metadata": {},
     "output_type": "execute_result"
    }
   ],
   "source": [
    "features_train1.shape, target_train1.shape"
   ]
  },
  {
   "cell_type": "code",
   "execution_count": 42,
   "metadata": {},
   "outputs": [
    {
     "data": {
      "text/plain": [
       "((10000, 1), (10000,))"
      ]
     },
     "execution_count": 42,
     "metadata": {},
     "output_type": "execute_result"
    }
   ],
   "source": [
    "features_test1.shape, target_test1.shape"
   ]
  },
  {
   "cell_type": "code",
   "execution_count": 43,
   "metadata": {},
   "outputs": [],
   "source": [
    "# рассчитаем как часто одно и то же слово употребляется во всем тексте\n",
    "count_tf_idf = TfidfVectorizer(stop_words=stopwords)\n",
    "features_train1 = count_tf_idf.fit_transform(features_train1['text'])\n",
    "features_test1 = count_tf_idf.transform(features_test1['text'])"
   ]
  },
  {
   "cell_type": "code",
   "execution_count": 44,
   "metadata": {},
   "outputs": [
    {
     "data": {
      "text/plain": [
       "(40000, 66957)"
      ]
     },
     "execution_count": 44,
     "metadata": {},
     "output_type": "execute_result"
    }
   ],
   "source": [
    "features_train1.shape"
   ]
  },
  {
   "cell_type": "markdown",
   "metadata": {},
   "source": [
    "**Обучение DecisionTreeClassifier c использованием RandomizeSearchSV**"
   ]
  },
  {
   "cell_type": "code",
   "execution_count": 45,
   "metadata": {},
   "outputs": [
    {
     "name": "stdout",
     "output_type": "stream",
     "text": [
      "Fitting 3 folds for each of 6 candidates, totalling 18 fits\n"
     ]
    },
    {
     "data": {
      "text/plain": [
       "0.5610435774204635"
      ]
     },
     "execution_count": 45,
     "metadata": {},
     "output_type": "execute_result"
    }
   ],
   "source": [
    "tree = DecisionTreeClassifier(class_weight='balanced', random_state=12345)\n",
    "params = {'criterion':['gini', 'entropy'], 'max_depth':list(range(1,15,5))}\n",
    "\n",
    "tree_gs_1 = GridSearchCV(tree, params, cv=3, scoring='f1', verbose=True).fit(features_train1, target_train1)\n",
    "target_predictions = tree_gs_1.predict(features_test1) \n",
    "tree_gs_1.best_score_"
   ]
  },
  {
   "cell_type": "code",
   "execution_count": 46,
   "metadata": {},
   "outputs": [
    {
     "name": "stderr",
     "output_type": "stream",
     "text": [
      "/opt/conda/lib/python3.9/site-packages/sklearn/model_selection/_search.py:285: UserWarning: The total space of parameters 3 is smaller than n_iter=300. Running 3 iterations. For exhaustive searches, use GridSearchCV.\n",
      "  warnings.warn(\n"
     ]
    },
    {
     "data": {
      "text/plain": [
       "0.5610435774204635"
      ]
     },
     "execution_count": 46,
     "metadata": {},
     "output_type": "execute_result"
    }
   ],
   "source": [
    "tree = DecisionTreeClassifier(class_weight='balanced', random_state=12345)\n",
    "params = {'max_depth':list(range(1,15,5))}\n",
    "\n",
    "tree_gs_1 = RandomizedSearchCV(tree, params, cv=3, scoring='f1', n_iter=300).fit(features_train1, target_train1)\n",
    "target_predictions = tree_gs_1.predict(features_test1) \n",
    "tree_gs_1.best_score_"
   ]
  },
  {
   "cell_type": "markdown",
   "metadata": {},
   "source": [
    "Сделала обучение с GreadSearch дланные метрики одинаковые получились. Сделала для сравнения"
   ]
  },
  {
   "cell_type": "markdown",
   "metadata": {},
   "source": [
    "**Обучение RandomForestClassifier с использование RandomizeSearchCV**"
   ]
  },
  {
   "cell_type": "code",
   "execution_count": 47,
   "metadata": {},
   "outputs": [
    {
     "name": "stderr",
     "output_type": "stream",
     "text": [
      "/opt/conda/lib/python3.9/site-packages/sklearn/model_selection/_search.py:285: UserWarning: The total space of parameters 18 is smaller than n_iter=20. Running 18 iterations. For exhaustive searches, use GridSearchCV.\n",
      "  warnings.warn(\n"
     ]
    },
    {
     "data": {
      "text/plain": [
       "0.4533039330762189"
      ]
     },
     "execution_count": 47,
     "metadata": {},
     "output_type": "execute_result"
    }
   ],
   "source": [
    "model = RandomForestClassifier(class_weight='balanced', random_state = 12345) \n",
    "params = {'n_estimators': range(10, 120, 40), 'max_depth': range(10, 120, 40), 'max_leaf_nodes': range(10, 60, 30)} \n",
    "\n",
    "random_forest_gs_1 = RandomizedSearchCV(model, params, cv=3, scoring='f1', n_iter=20).fit(features_train1, target_train1)\n",
    "target_predictions = random_forest_gs_1.predict(features_test1) \n",
    "random_forest_gs_1.best_score_"
   ]
  },
  {
   "cell_type": "markdown",
   "metadata": {},
   "source": [
    "**Обучение LogisticRegression с использованием RandomizedSearchCV**"
   ]
  },
  {
   "cell_type": "code",
   "execution_count": 48,
   "metadata": {},
   "outputs": [
    {
     "data": {
      "text/plain": [
       "0.7557537812330756"
      ]
     },
     "execution_count": 48,
     "metadata": {},
     "output_type": "execute_result"
    }
   ],
   "source": [
    "model = LogisticRegression(random_state = 12345, class_weight ='balanced')\n",
    "params = {'penalty': ['l1', 'l2'], 'C' : [0.5, 1.0, 5.0, 15.0], 'intercept_scaling' : range(5, 100, 40), 'solver':['liblinear']}\n",
    "\n",
    "logistic_regression_gs_1 = RandomizedSearchCV(model, params, cv=3, scoring='f1', n_iter=20).fit(features_train1, target_train1)\n",
    "target_predictions = logistic_regression_gs_1.predict(features_test1) \n",
    "logistic_regression_gs_1.best_score_"
   ]
  },
  {
   "cell_type": "code",
   "execution_count": 49,
   "metadata": {},
   "outputs": [
    {
     "name": "stdout",
     "output_type": "stream",
     "text": [
      "Fitting 3 folds for each of 24 candidates, totalling 72 fits\n"
     ]
    },
    {
     "data": {
      "text/plain": [
       "0.7557537812330756"
      ]
     },
     "execution_count": 49,
     "metadata": {},
     "output_type": "execute_result"
    }
   ],
   "source": [
    "model = LogisticRegression(random_state = 12345, class_weight='balanced')\n",
    "params = {'penalty': ['l1', 'l2'], 'C' : [0.5, 1.0, 5.0, 15.0], 'intercept_scaling' : range(5, 100, 40),'solver':['liblinear']}\n",
    "\n",
    "logistic_regression_gs = GridSearchCV(model, params, cv=3, scoring='f1', verbose=True).fit(features_train1, target_train1)\n",
    "target_predictions = logistic_regression_gs.predict(features_test1) \n",
    "logistic_regression_gs.best_score_"
   ]
  },
  {
   "cell_type": "markdown",
   "metadata": {},
   "source": [
    "**Обучение LGBMClassifier**"
   ]
  },
  {
   "cell_type": "code",
   "execution_count": 50,
   "metadata": {},
   "outputs": [
    {
     "name": "stderr",
     "output_type": "stream",
     "text": [
      "/opt/conda/lib/python3.9/site-packages/sklearn/model_selection/_search.py:285: UserWarning: The total space of parameters 18 is smaller than n_iter=20. Running 18 iterations. For exhaustive searches, use GridSearchCV.\n",
      "  warnings.warn(\n"
     ]
    },
    {
     "data": {
      "text/plain": [
       "0.7304923740827441"
      ]
     },
     "execution_count": 50,
     "metadata": {},
     "output_type": "execute_result"
    }
   ],
   "source": [
    "model = lgb.LGBMClassifier(class_weight ='balanced', random_state=12345)\n",
    "params = {\n",
    "    'n_estimators': [10, 20, 100],\n",
    "    'max_depth': [5, 30],\n",
    "    'num_leaves': [10, 20, 31],\n",
    "    'learning_rate':[0.2]\n",
    "}\n",
    "\n",
    "lgbm_gs_1 = RandomizedSearchCV(model, params, cv=3, scoring='f1', n_iter=20).fit(features_train1, target_train1)\n",
    "target_predictions = lgbm_gs_1.predict(features_test1) \n",
    "lgbm_gs_1.best_score_"
   ]
  },
  {
   "cell_type": "code",
   "execution_count": 51,
   "metadata": {},
   "outputs": [],
   "source": [
    "models_test_1 = pd.DataFrame([round(tree_gs_1.best_score_, 3),\n",
    "                           round(random_forest_gs_1.best_score_, 3),\n",
    "                           round(logistic_regression_gs_1.best_score_, 3),\n",
    "                           round(lgbm_gs_1.best_score_, 3)\n",
    "                           ],\n",
    "                     columns=['F1 мера'],\n",
    "                      index=[\n",
    "                            'DecisionTreeClissifier',\n",
    "                            'RandomForestClassifier',\n",
    "                            'LogisticRegression',\n",
    "                            'LGBM Classifier'\n",
    "                            ]\n",
    "                     )"
   ]
  },
  {
   "cell_type": "code",
   "execution_count": 52,
   "metadata": {},
   "outputs": [
    {
     "data": {
      "text/html": [
       "<div>\n",
       "<style scoped>\n",
       "    .dataframe tbody tr th:only-of-type {\n",
       "        vertical-align: middle;\n",
       "    }\n",
       "\n",
       "    .dataframe tbody tr th {\n",
       "        vertical-align: top;\n",
       "    }\n",
       "\n",
       "    .dataframe thead th {\n",
       "        text-align: right;\n",
       "    }\n",
       "</style>\n",
       "<table border=\"1\" class=\"dataframe\">\n",
       "  <thead>\n",
       "    <tr style=\"text-align: right;\">\n",
       "      <th></th>\n",
       "      <th>F1 мера</th>\n",
       "    </tr>\n",
       "  </thead>\n",
       "  <tbody>\n",
       "    <tr>\n",
       "      <th>DecisionTreeClissifier</th>\n",
       "      <td>0.561</td>\n",
       "    </tr>\n",
       "    <tr>\n",
       "      <th>RandomForestClassifier</th>\n",
       "      <td>0.453</td>\n",
       "    </tr>\n",
       "    <tr>\n",
       "      <th>LogisticRegression</th>\n",
       "      <td>0.756</td>\n",
       "    </tr>\n",
       "    <tr>\n",
       "      <th>LGBM Classifier</th>\n",
       "      <td>0.730</td>\n",
       "    </tr>\n",
       "  </tbody>\n",
       "</table>\n",
       "</div>"
      ],
      "text/plain": [
       "                        F1 мера\n",
       "DecisionTreeClissifier    0.561\n",
       "RandomForestClassifier    0.453\n",
       "LogisticRegression        0.756\n",
       "LGBM Classifier           0.730"
      ]
     },
     "execution_count": 52,
     "metadata": {},
     "output_type": "execute_result"
    }
   ],
   "source": [
    "models_test_1 "
   ]
  },
  {
   "cell_type": "markdown",
   "metadata": {},
   "source": [
    "В целом даже на усеченных данных получились неплохие метрики. Получилось обучить LGBM Classifier, но метрика у него ниже, чем нужно. Плюс помотрела как работает RandomizedSearch и сравнила в некотрых местах с работой GreadSearch, получили однаковые данные, но по ощущениям RandomizesSearch работает быстрее\n",
    "\n",
    "\n",
    "КАк мне показалось, я все ошибки исправила:\n",
    "\n",
    "1) убрала эникод, \n",
    "\n",
    "2) учла дисбаланс классов\n",
    "\n",
    "3) для лемматизации использовала SpaCy\n",
    "\n",
    "4) поработала с RandomizesSearch\n",
    "\n",
    "5) поработала с усеченными данными и обучила в том числе LGBMClassifier."
   ]
  },
  {
   "cell_type": "markdown",
   "metadata": {},
   "source": [
    "Модели обучили с учетом всех недочетов, попробовали RandomizesSearch. Но на меньших объемах данных метрики получились хуже."
   ]
  }
 ],
 "metadata": {
  "ExecuteTimeLog": [
   {
    "duration": 478,
    "start_time": "2022-06-06T13:52:50.505Z"
   },
   {
    "duration": 3511,
    "start_time": "2022-06-06T13:53:25.923Z"
   },
   {
    "duration": 13,
    "start_time": "2022-06-06T13:53:51.299Z"
   },
   {
    "duration": 84,
    "start_time": "2022-06-06T13:54:31.563Z"
   },
   {
    "duration": 4,
    "start_time": "2022-06-06T13:54:36.745Z"
   },
   {
    "duration": 5,
    "start_time": "2022-06-06T13:54:56.743Z"
   },
   {
    "duration": 31,
    "start_time": "2022-06-06T13:55:35.159Z"
   },
   {
    "duration": 24,
    "start_time": "2022-06-06T13:56:01.864Z"
   },
   {
    "duration": 237,
    "start_time": "2022-06-06T13:59:05.699Z"
   },
   {
    "duration": 636,
    "start_time": "2022-06-06T14:15:40.925Z"
   },
   {
    "duration": 3622,
    "start_time": "2022-06-06T14:15:41.564Z"
   },
   {
    "duration": 14,
    "start_time": "2022-06-06T14:15:45.188Z"
   },
   {
    "duration": 10,
    "start_time": "2022-06-06T14:15:45.204Z"
   },
   {
    "duration": 13,
    "start_time": "2022-06-06T14:15:45.216Z"
   },
   {
    "duration": 58,
    "start_time": "2022-06-06T14:15:45.235Z"
   },
   {
    "duration": 28,
    "start_time": "2022-06-06T14:15:45.295Z"
   },
   {
    "duration": 253,
    "start_time": "2022-06-06T14:15:45.325Z"
   },
   {
    "duration": 650,
    "start_time": "2022-06-06T14:16:22.626Z"
   },
   {
    "duration": 3608,
    "start_time": "2022-06-06T14:16:23.278Z"
   },
   {
    "duration": 15,
    "start_time": "2022-06-06T14:16:26.888Z"
   },
   {
    "duration": 6,
    "start_time": "2022-06-06T14:16:26.904Z"
   },
   {
    "duration": 9,
    "start_time": "2022-06-06T14:16:26.912Z"
   },
   {
    "duration": 41,
    "start_time": "2022-06-06T14:16:26.923Z"
   },
   {
    "duration": 30,
    "start_time": "2022-06-06T14:16:26.966Z"
   },
   {
    "duration": 270,
    "start_time": "2022-06-06T14:16:26.998Z"
   },
   {
    "duration": 61,
    "start_time": "2022-06-06T14:16:42.264Z"
   },
   {
    "duration": 589,
    "start_time": "2022-06-06T14:16:51.961Z"
   },
   {
    "duration": 3623,
    "start_time": "2022-06-06T14:16:52.552Z"
   },
   {
    "duration": 14,
    "start_time": "2022-06-06T14:16:56.177Z"
   },
   {
    "duration": 15,
    "start_time": "2022-06-06T14:16:56.192Z"
   },
   {
    "duration": 7,
    "start_time": "2022-06-06T14:16:56.209Z"
   },
   {
    "duration": 33,
    "start_time": "2022-06-06T14:16:56.218Z"
   },
   {
    "duration": 24,
    "start_time": "2022-06-06T14:16:56.253Z"
   },
   {
    "duration": 246,
    "start_time": "2022-06-06T14:16:56.279Z"
   },
   {
    "duration": 2521,
    "start_time": "2022-06-06T14:16:56.528Z"
   },
   {
    "duration": 397,
    "start_time": "2022-06-06T14:23:53.771Z"
   },
   {
    "duration": 2880,
    "start_time": "2022-06-06T14:23:54.170Z"
   },
   {
    "duration": 13,
    "start_time": "2022-06-06T14:23:57.051Z"
   },
   {
    "duration": 3,
    "start_time": "2022-06-06T14:23:57.066Z"
   },
   {
    "duration": 5,
    "start_time": "2022-06-06T14:23:57.071Z"
   },
   {
    "duration": 35,
    "start_time": "2022-06-06T14:23:57.078Z"
   },
   {
    "duration": 22,
    "start_time": "2022-06-06T14:23:57.115Z"
   },
   {
    "duration": 222,
    "start_time": "2022-06-06T14:23:57.138Z"
   },
   {
    "duration": 1860,
    "start_time": "2022-06-06T14:23:57.361Z"
   },
   {
    "duration": 4,
    "start_time": "2022-06-06T14:24:10.581Z"
   },
   {
    "duration": 3,
    "start_time": "2022-06-06T14:25:48.713Z"
   },
   {
    "duration": 693,
    "start_time": "2022-06-06T14:27:13.695Z"
   },
   {
    "duration": 4,
    "start_time": "2022-06-06T14:27:37.271Z"
   },
   {
    "duration": 44,
    "start_time": "2022-06-06T14:30:39.856Z"
   },
   {
    "duration": 8,
    "start_time": "2022-06-06T14:30:46.946Z"
   },
   {
    "duration": 397,
    "start_time": "2022-06-06T14:41:56.724Z"
   },
   {
    "duration": 2864,
    "start_time": "2022-06-06T14:41:57.123Z"
   },
   {
    "duration": 12,
    "start_time": "2022-06-06T14:41:59.989Z"
   },
   {
    "duration": 4,
    "start_time": "2022-06-06T14:42:00.003Z"
   },
   {
    "duration": 12,
    "start_time": "2022-06-06T14:42:00.009Z"
   },
   {
    "duration": 31,
    "start_time": "2022-06-06T14:42:00.023Z"
   },
   {
    "duration": 31,
    "start_time": "2022-06-06T14:42:00.056Z"
   },
   {
    "duration": 208,
    "start_time": "2022-06-06T14:42:00.088Z"
   },
   {
    "duration": 12,
    "start_time": "2022-06-06T14:42:00.297Z"
   },
   {
    "duration": 10,
    "start_time": "2022-06-06T14:42:00.310Z"
   },
   {
    "duration": 417,
    "start_time": "2022-06-06T14:43:58.412Z"
   },
   {
    "duration": 2893,
    "start_time": "2022-06-06T14:43:58.831Z"
   },
   {
    "duration": 14,
    "start_time": "2022-06-06T14:44:01.725Z"
   },
   {
    "duration": 13,
    "start_time": "2022-06-06T14:44:01.740Z"
   },
   {
    "duration": 15,
    "start_time": "2022-06-06T14:44:01.756Z"
   },
   {
    "duration": 48,
    "start_time": "2022-06-06T14:44:01.773Z"
   },
   {
    "duration": 27,
    "start_time": "2022-06-06T14:44:01.823Z"
   },
   {
    "duration": 214,
    "start_time": "2022-06-06T14:44:01.852Z"
   },
   {
    "duration": 3,
    "start_time": "2022-06-06T14:44:02.068Z"
   },
   {
    "duration": 34,
    "start_time": "2022-06-06T14:44:02.072Z"
   },
   {
    "duration": 55,
    "start_time": "2022-06-06T14:45:07.848Z"
   },
   {
    "duration": 379,
    "start_time": "2022-06-06T14:45:19.542Z"
   },
   {
    "duration": 2909,
    "start_time": "2022-06-06T14:45:19.923Z"
   },
   {
    "duration": 16,
    "start_time": "2022-06-06T14:45:22.834Z"
   },
   {
    "duration": 9,
    "start_time": "2022-06-06T14:45:22.852Z"
   },
   {
    "duration": 8,
    "start_time": "2022-06-06T14:45:22.862Z"
   },
   {
    "duration": 30,
    "start_time": "2022-06-06T14:45:22.872Z"
   },
   {
    "duration": 24,
    "start_time": "2022-06-06T14:45:22.903Z"
   },
   {
    "duration": 218,
    "start_time": "2022-06-06T14:45:22.929Z"
   },
   {
    "duration": 4,
    "start_time": "2022-06-06T14:45:23.149Z"
   },
   {
    "duration": 4,
    "start_time": "2022-06-06T14:45:23.155Z"
   },
   {
    "duration": 54,
    "start_time": "2022-06-06T14:45:35.344Z"
   },
   {
    "duration": 463,
    "start_time": "2022-06-06T14:53:11.682Z"
   },
   {
    "duration": 2976,
    "start_time": "2022-06-06T14:53:12.147Z"
   },
   {
    "duration": 14,
    "start_time": "2022-06-06T14:53:15.125Z"
   },
   {
    "duration": 3,
    "start_time": "2022-06-06T14:53:15.141Z"
   },
   {
    "duration": 7,
    "start_time": "2022-06-06T14:53:15.146Z"
   },
   {
    "duration": 32,
    "start_time": "2022-06-06T14:53:15.155Z"
   },
   {
    "duration": 28,
    "start_time": "2022-06-06T14:53:15.189Z"
   },
   {
    "duration": 219,
    "start_time": "2022-06-06T14:53:15.219Z"
   },
   {
    "duration": 3,
    "start_time": "2022-06-06T14:53:15.440Z"
   },
   {
    "duration": 6,
    "start_time": "2022-06-06T14:53:15.445Z"
   },
   {
    "duration": 5,
    "start_time": "2022-06-06T14:53:15.452Z"
   },
   {
    "duration": 12,
    "start_time": "2022-06-06T14:53:24.954Z"
   },
   {
    "duration": 58,
    "start_time": "2022-06-06T14:53:40.091Z"
   },
   {
    "duration": 427,
    "start_time": "2022-06-06T14:53:50.125Z"
   },
   {
    "duration": 2972,
    "start_time": "2022-06-06T14:53:50.554Z"
   },
   {
    "duration": 14,
    "start_time": "2022-06-06T14:53:53.527Z"
   },
   {
    "duration": 4,
    "start_time": "2022-06-06T14:53:53.543Z"
   },
   {
    "duration": 8,
    "start_time": "2022-06-06T14:53:53.548Z"
   },
   {
    "duration": 32,
    "start_time": "2022-06-06T14:53:53.557Z"
   },
   {
    "duration": 23,
    "start_time": "2022-06-06T14:53:53.591Z"
   },
   {
    "duration": 211,
    "start_time": "2022-06-06T14:53:53.616Z"
   },
   {
    "duration": 3,
    "start_time": "2022-06-06T14:53:53.828Z"
   },
   {
    "duration": 4,
    "start_time": "2022-06-06T14:53:53.834Z"
   },
   {
    "duration": 56,
    "start_time": "2022-06-06T14:54:42.368Z"
   },
   {
    "duration": 398,
    "start_time": "2022-06-06T15:03:46.773Z"
   },
   {
    "duration": 2987,
    "start_time": "2022-06-06T15:03:47.173Z"
   },
   {
    "duration": 15,
    "start_time": "2022-06-06T15:03:50.162Z"
   },
   {
    "duration": 5,
    "start_time": "2022-06-06T15:03:50.179Z"
   },
   {
    "duration": 10,
    "start_time": "2022-06-06T15:03:50.187Z"
   },
   {
    "duration": 37,
    "start_time": "2022-06-06T15:03:50.198Z"
   },
   {
    "duration": 24,
    "start_time": "2022-06-06T15:03:50.237Z"
   },
   {
    "duration": 235,
    "start_time": "2022-06-06T15:03:50.262Z"
   },
   {
    "duration": 4,
    "start_time": "2022-06-06T15:03:50.498Z"
   },
   {
    "duration": 10,
    "start_time": "2022-06-06T15:03:50.509Z"
   },
   {
    "duration": 876,
    "start_time": "2022-06-06T15:03:50.521Z"
   },
   {
    "duration": 0,
    "start_time": "2022-06-06T15:03:51.399Z"
   },
   {
    "duration": 422,
    "start_time": "2022-06-06T15:04:08.916Z"
   },
   {
    "duration": 806,
    "start_time": "2022-06-06T15:04:09.340Z"
   },
   {
    "duration": 14,
    "start_time": "2022-06-06T15:04:10.148Z"
   },
   {
    "duration": 5,
    "start_time": "2022-06-06T15:04:10.165Z"
   },
   {
    "duration": 6,
    "start_time": "2022-06-06T15:04:10.172Z"
   },
   {
    "duration": 48,
    "start_time": "2022-06-06T15:04:10.179Z"
   },
   {
    "duration": 26,
    "start_time": "2022-06-06T15:04:10.229Z"
   },
   {
    "duration": 230,
    "start_time": "2022-06-06T15:04:10.256Z"
   },
   {
    "duration": 4,
    "start_time": "2022-06-06T15:04:10.488Z"
   },
   {
    "duration": 15,
    "start_time": "2022-06-06T15:04:10.494Z"
   },
   {
    "duration": 742,
    "start_time": "2022-06-06T15:04:10.511Z"
   },
   {
    "duration": 0,
    "start_time": "2022-06-06T15:04:11.255Z"
   },
   {
    "duration": 3,
    "start_time": "2022-06-06T15:04:45.898Z"
   },
   {
    "duration": 89551,
    "start_time": "2022-06-06T15:04:51.541Z"
   },
   {
    "duration": 695,
    "start_time": "2022-06-06T15:06:36.010Z"
   },
   {
    "duration": 66012,
    "start_time": "2022-06-06T15:06:42.378Z"
   },
   {
    "duration": 0,
    "start_time": "2022-06-06T15:07:48.391Z"
   },
   {
    "duration": 163,
    "start_time": "2022-06-06T15:09:44.267Z"
   },
   {
    "duration": 4,
    "start_time": "2022-06-06T15:11:00.609Z"
   },
   {
    "duration": 66492,
    "start_time": "2022-06-06T15:11:11.842Z"
   },
   {
    "duration": 0,
    "start_time": "2022-06-06T15:12:18.336Z"
   },
   {
    "duration": 72817,
    "start_time": "2022-06-06T15:17:10.460Z"
   },
   {
    "duration": 9,
    "start_time": "2022-06-06T15:23:55.886Z"
   },
   {
    "duration": 1430,
    "start_time": "2022-06-06T15:24:24.008Z"
   },
   {
    "duration": 42453,
    "start_time": "2022-06-06T15:24:51.086Z"
   },
   {
    "duration": 62253,
    "start_time": "2022-06-06T15:26:42.722Z"
   },
   {
    "duration": 0,
    "start_time": "2022-06-06T15:27:44.977Z"
   },
   {
    "duration": 0,
    "start_time": "2022-06-06T15:27:44.978Z"
   },
   {
    "duration": 1209,
    "start_time": "2022-06-06T15:29:58.634Z"
   },
   {
    "duration": 852,
    "start_time": "2022-06-06T15:29:59.845Z"
   },
   {
    "duration": 89,
    "start_time": "2022-06-06T15:30:00.699Z"
   },
   {
    "duration": 30,
    "start_time": "2022-06-06T15:30:00.790Z"
   },
   {
    "duration": 28,
    "start_time": "2022-06-06T15:30:00.821Z"
   },
   {
    "duration": 86,
    "start_time": "2022-06-06T15:30:00.851Z"
   },
   {
    "duration": 29,
    "start_time": "2022-06-06T15:30:00.939Z"
   },
   {
    "duration": 223,
    "start_time": "2022-06-06T15:30:00.970Z"
   },
   {
    "duration": 3,
    "start_time": "2022-06-06T15:30:01.195Z"
   },
   {
    "duration": 3,
    "start_time": "2022-06-06T15:30:01.209Z"
   },
   {
    "duration": 94522,
    "start_time": "2022-06-06T15:30:01.214Z"
   },
   {
    "duration": 42375,
    "start_time": "2022-06-06T15:31:35.738Z"
   },
   {
    "duration": 4,
    "start_time": "2022-06-06T15:32:18.115Z"
   },
   {
    "duration": 32,
    "start_time": "2022-06-06T15:34:13.543Z"
   },
   {
    "duration": 132,
    "start_time": "2022-06-06T15:39:17.507Z"
   },
   {
    "duration": 5,
    "start_time": "2022-06-06T15:40:44.535Z"
   },
   {
    "duration": 47076,
    "start_time": "2022-06-06T15:41:09.340Z"
   },
   {
    "duration": 4,
    "start_time": "2022-06-06T15:41:56.418Z"
   },
   {
    "duration": 31,
    "start_time": "2022-06-06T15:41:56.423Z"
   },
   {
    "duration": 719273,
    "start_time": "2022-06-06T15:41:56.456Z"
   },
   {
    "duration": 450446,
    "start_time": "2022-06-06T15:53:55.731Z"
   },
   {
    "duration": 16,
    "start_time": "2022-06-06T16:49:18.282Z"
   },
   {
    "duration": 63303,
    "start_time": "2022-06-06T16:49:19.379Z"
   },
   {
    "duration": 3,
    "start_time": "2022-06-06T16:50:22.683Z"
   },
   {
    "duration": 6,
    "start_time": "2022-06-06T16:50:32.283Z"
   },
   {
    "duration": 6,
    "start_time": "2022-06-06T16:50:54.733Z"
   },
   {
    "duration": 9,
    "start_time": "2022-06-06T16:50:55.430Z"
   },
   {
    "duration": 1591,
    "start_time": "2022-06-06T20:46:36.072Z"
   },
   {
    "duration": 3248,
    "start_time": "2022-06-06T20:46:37.665Z"
   },
   {
    "duration": 91,
    "start_time": "2022-06-06T20:46:40.914Z"
   },
   {
    "duration": 4,
    "start_time": "2022-06-06T20:46:41.006Z"
   },
   {
    "duration": 9,
    "start_time": "2022-06-06T20:46:41.013Z"
   },
   {
    "duration": 47,
    "start_time": "2022-06-06T20:46:41.023Z"
   },
   {
    "duration": 26,
    "start_time": "2022-06-06T20:46:41.073Z"
   },
   {
    "duration": 241,
    "start_time": "2022-06-06T20:46:41.101Z"
   },
   {
    "duration": 5,
    "start_time": "2022-06-06T20:46:41.343Z"
   },
   {
    "duration": 147,
    "start_time": "2022-06-06T20:46:41.349Z"
   },
   {
    "duration": 0,
    "start_time": "2022-06-06T20:46:41.499Z"
   },
   {
    "duration": 0,
    "start_time": "2022-06-06T20:46:41.501Z"
   },
   {
    "duration": 0,
    "start_time": "2022-06-06T20:46:41.502Z"
   },
   {
    "duration": 0,
    "start_time": "2022-06-06T20:46:41.504Z"
   },
   {
    "duration": 0,
    "start_time": "2022-06-06T20:46:41.505Z"
   },
   {
    "duration": 0,
    "start_time": "2022-06-06T20:46:41.506Z"
   },
   {
    "duration": 0,
    "start_time": "2022-06-06T20:46:41.507Z"
   },
   {
    "duration": 0,
    "start_time": "2022-06-06T20:46:41.509Z"
   },
   {
    "duration": 0,
    "start_time": "2022-06-06T20:46:41.510Z"
   },
   {
    "duration": 0,
    "start_time": "2022-06-06T20:46:41.511Z"
   },
   {
    "duration": 0,
    "start_time": "2022-06-06T20:46:41.513Z"
   },
   {
    "duration": 0,
    "start_time": "2022-06-06T20:46:41.541Z"
   },
   {
    "duration": 0,
    "start_time": "2022-06-06T20:46:41.542Z"
   },
   {
    "duration": 0,
    "start_time": "2022-06-06T20:46:41.543Z"
   },
   {
    "duration": 0,
    "start_time": "2022-06-06T20:46:41.544Z"
   },
   {
    "duration": 0,
    "start_time": "2022-06-06T20:46:41.545Z"
   },
   {
    "duration": 0,
    "start_time": "2022-06-06T20:46:41.547Z"
   },
   {
    "duration": 10,
    "start_time": "2022-06-06T20:47:00.700Z"
   },
   {
    "duration": 110242,
    "start_time": "2022-06-06T20:47:06.048Z"
   },
   {
    "duration": 7,
    "start_time": "2022-06-06T20:49:51.760Z"
   },
   {
    "duration": 9,
    "start_time": "2022-06-06T20:49:54.223Z"
   },
   {
    "duration": 17,
    "start_time": "2022-06-06T20:49:54.936Z"
   },
   {
    "duration": 26,
    "start_time": "2022-06-06T20:49:56.281Z"
   },
   {
    "duration": 256,
    "start_time": "2022-06-06T20:49:57.017Z"
   },
   {
    "duration": 11808,
    "start_time": "2022-06-06T20:49:57.643Z"
   },
   {
    "duration": 4,
    "start_time": "2022-06-06T20:50:09.453Z"
   },
   {
    "duration": 6603917,
    "start_time": "2022-06-06T20:50:10.866Z"
   },
   {
    "duration": 0,
    "start_time": "2022-06-06T22:40:14.785Z"
   },
   {
    "duration": 0,
    "start_time": "2022-06-06T22:40:14.786Z"
   },
   {
    "duration": 0,
    "start_time": "2022-06-06T22:40:14.787Z"
   },
   {
    "duration": 0,
    "start_time": "2022-06-06T22:40:14.788Z"
   },
   {
    "duration": 0,
    "start_time": "2022-06-06T22:40:14.790Z"
   },
   {
    "duration": 0,
    "start_time": "2022-06-06T22:40:14.791Z"
   },
   {
    "duration": 0,
    "start_time": "2022-06-06T22:40:14.792Z"
   },
   {
    "duration": 0,
    "start_time": "2022-06-06T22:40:14.793Z"
   },
   {
    "duration": 0,
    "start_time": "2022-06-06T22:40:14.794Z"
   },
   {
    "duration": 0,
    "start_time": "2022-06-06T22:40:14.795Z"
   },
   {
    "duration": 0,
    "start_time": "2022-06-06T22:40:14.797Z"
   },
   {
    "duration": 0,
    "start_time": "2022-06-06T22:40:14.842Z"
   },
   {
    "duration": 0,
    "start_time": "2022-06-06T22:40:14.843Z"
   },
   {
    "duration": 0,
    "start_time": "2022-06-06T22:40:14.844Z"
   },
   {
    "duration": 0,
    "start_time": "2022-06-06T22:40:14.845Z"
   },
   {
    "duration": 0,
    "start_time": "2022-06-06T22:40:14.846Z"
   },
   {
    "duration": 0,
    "start_time": "2022-06-06T22:40:14.848Z"
   },
   {
    "duration": 0,
    "start_time": "2022-06-06T22:40:14.849Z"
   },
   {
    "duration": 0,
    "start_time": "2022-06-06T22:40:14.850Z"
   },
   {
    "duration": 0,
    "start_time": "2022-06-06T22:40:14.851Z"
   },
   {
    "duration": 0,
    "start_time": "2022-06-06T22:40:14.852Z"
   },
   {
    "duration": 0,
    "start_time": "2022-06-06T22:40:14.853Z"
   },
   {
    "duration": 0,
    "start_time": "2022-06-06T22:40:14.855Z"
   },
   {
    "duration": 0,
    "start_time": "2022-06-06T22:40:14.856Z"
   },
   {
    "duration": 4,
    "start_time": "2022-06-06T22:54:13.799Z"
   },
   {
    "duration": 1303,
    "start_time": "2022-06-07T06:34:40.798Z"
   },
   {
    "duration": 926,
    "start_time": "2022-06-07T06:34:42.103Z"
   },
   {
    "duration": 90,
    "start_time": "2022-06-07T06:34:43.031Z"
   },
   {
    "duration": 4,
    "start_time": "2022-06-07T06:34:43.123Z"
   },
   {
    "duration": 5,
    "start_time": "2022-06-07T06:34:43.141Z"
   },
   {
    "duration": 39,
    "start_time": "2022-06-07T06:34:43.147Z"
   },
   {
    "duration": 27,
    "start_time": "2022-06-07T06:34:43.188Z"
   },
   {
    "duration": 257,
    "start_time": "2022-06-07T06:34:43.217Z"
   },
   {
    "duration": 4,
    "start_time": "2022-06-07T06:34:43.475Z"
   },
   {
    "duration": 95890,
    "start_time": "2022-06-07T06:34:43.482Z"
   },
   {
    "duration": 6,
    "start_time": "2022-06-07T06:36:19.374Z"
   },
   {
    "duration": 14,
    "start_time": "2022-06-07T06:36:19.381Z"
   },
   {
    "duration": 13,
    "start_time": "2022-06-07T06:36:19.397Z"
   },
   {
    "duration": 47,
    "start_time": "2022-06-07T06:36:19.411Z"
   },
   {
    "duration": 226,
    "start_time": "2022-06-07T06:36:19.460Z"
   },
   {
    "duration": 11835,
    "start_time": "2022-06-07T06:36:19.688Z"
   },
   {
    "duration": 4,
    "start_time": "2022-06-07T06:36:31.525Z"
   },
   {
    "duration": 11,
    "start_time": "2022-06-07T06:36:31.531Z"
   },
   {
    "duration": 12,
    "start_time": "2022-06-07T06:36:31.544Z"
   },
   {
    "duration": 5,
    "start_time": "2022-06-07T06:36:31.558Z"
   },
   {
    "duration": 1262,
    "start_time": "2022-06-07T11:26:04.183Z"
   },
   {
    "duration": 3923,
    "start_time": "2022-06-07T11:26:05.447Z"
   },
   {
    "duration": 82,
    "start_time": "2022-06-07T11:26:09.371Z"
   },
   {
    "duration": 12,
    "start_time": "2022-06-07T11:26:09.455Z"
   },
   {
    "duration": 9,
    "start_time": "2022-06-07T11:26:09.470Z"
   },
   {
    "duration": 37,
    "start_time": "2022-06-07T11:26:09.481Z"
   },
   {
    "duration": 34,
    "start_time": "2022-06-07T11:26:09.525Z"
   },
   {
    "duration": 257,
    "start_time": "2022-06-07T11:26:09.561Z"
   },
   {
    "duration": 18,
    "start_time": "2022-06-07T11:26:09.819Z"
   },
   {
    "duration": 97250,
    "start_time": "2022-06-07T11:26:09.847Z"
   },
   {
    "duration": 4,
    "start_time": "2022-06-07T11:27:47.099Z"
   },
   {
    "duration": 9,
    "start_time": "2022-06-07T11:27:47.104Z"
   },
   {
    "duration": 13,
    "start_time": "2022-06-07T11:27:47.124Z"
   },
   {
    "duration": 27,
    "start_time": "2022-06-07T11:27:47.141Z"
   },
   {
    "duration": 227,
    "start_time": "2022-06-07T11:27:47.169Z"
   },
   {
    "duration": 12200,
    "start_time": "2022-06-07T11:27:47.397Z"
   },
   {
    "duration": 4,
    "start_time": "2022-06-07T11:27:59.599Z"
   },
   {
    "duration": 5,
    "start_time": "2022-06-07T11:27:59.605Z"
   },
   {
    "duration": 5,
    "start_time": "2022-06-07T11:27:59.611Z"
   },
   {
    "duration": 35,
    "start_time": "2022-06-07T11:27:59.618Z"
   },
   {
    "duration": 1178,
    "start_time": "2022-06-07T12:03:29.787Z"
   },
   {
    "duration": 694,
    "start_time": "2022-06-07T12:03:30.967Z"
   },
   {
    "duration": 76,
    "start_time": "2022-06-07T12:03:31.662Z"
   },
   {
    "duration": 28,
    "start_time": "2022-06-07T12:03:31.740Z"
   },
   {
    "duration": 18,
    "start_time": "2022-06-07T12:03:31.770Z"
   },
   {
    "duration": 47,
    "start_time": "2022-06-07T12:03:31.789Z"
   },
   {
    "duration": 30,
    "start_time": "2022-06-07T12:03:31.838Z"
   },
   {
    "duration": 230,
    "start_time": "2022-06-07T12:03:31.870Z"
   },
   {
    "duration": 4,
    "start_time": "2022-06-07T12:03:32.101Z"
   },
   {
    "duration": 90104,
    "start_time": "2022-06-07T12:03:32.106Z"
   },
   {
    "duration": 14,
    "start_time": "2022-06-07T12:05:02.212Z"
   },
   {
    "duration": 30,
    "start_time": "2022-06-07T12:05:02.228Z"
   },
   {
    "duration": 18,
    "start_time": "2022-06-07T12:05:02.260Z"
   },
   {
    "duration": 29,
    "start_time": "2022-06-07T12:05:02.281Z"
   },
   {
    "duration": 163,
    "start_time": "2022-06-07T12:05:02.312Z"
   },
   {
    "duration": 11570,
    "start_time": "2022-06-07T12:05:02.476Z"
   },
   {
    "duration": 3,
    "start_time": "2022-06-07T12:05:14.048Z"
   },
   {
    "duration": 12,
    "start_time": "2022-06-07T12:05:14.053Z"
   },
   {
    "duration": 10,
    "start_time": "2022-06-07T12:05:14.066Z"
   },
   {
    "duration": 5,
    "start_time": "2022-06-07T12:05:14.077Z"
   },
   {
    "duration": 331834,
    "start_time": "2022-06-07T12:05:14.084Z"
   },
   {
    "duration": 4397365,
    "start_time": "2022-06-07T12:10:45.920Z"
   },
   {
    "duration": 1199647,
    "start_time": "2022-06-07T13:24:03.287Z"
   },
   {
    "duration": 102,
    "start_time": "2022-06-07T13:44:02.936Z"
   },
   {
    "duration": 30,
    "start_time": "2022-06-07T13:44:03.039Z"
   },
   {
    "duration": 336,
    "start_time": "2022-06-07T13:44:03.071Z"
   },
   {
    "duration": 0,
    "start_time": "2022-06-07T13:44:03.408Z"
   },
   {
    "duration": 0,
    "start_time": "2022-06-07T13:44:03.409Z"
   },
   {
    "duration": 0,
    "start_time": "2022-06-07T13:44:03.410Z"
   },
   {
    "duration": 0,
    "start_time": "2022-06-07T13:44:03.411Z"
   },
   {
    "duration": 0,
    "start_time": "2022-06-07T13:44:03.412Z"
   },
   {
    "duration": 0,
    "start_time": "2022-06-07T13:44:03.425Z"
   },
   {
    "duration": 0,
    "start_time": "2022-06-07T13:44:03.426Z"
   },
   {
    "duration": 0,
    "start_time": "2022-06-07T13:44:03.427Z"
   },
   {
    "duration": 0,
    "start_time": "2022-06-07T13:44:03.428Z"
   },
   {
    "duration": 0,
    "start_time": "2022-06-07T13:44:03.429Z"
   },
   {
    "duration": 0,
    "start_time": "2022-06-07T13:44:03.430Z"
   },
   {
    "duration": 0,
    "start_time": "2022-06-07T13:44:03.431Z"
   },
   {
    "duration": 0,
    "start_time": "2022-06-07T13:44:03.432Z"
   },
   {
    "duration": 0,
    "start_time": "2022-06-07T13:44:03.433Z"
   },
   {
    "duration": 0,
    "start_time": "2022-06-07T13:44:03.434Z"
   },
   {
    "duration": 0,
    "start_time": "2022-06-07T13:44:03.435Z"
   },
   {
    "duration": 0,
    "start_time": "2022-06-07T13:44:03.436Z"
   },
   {
    "duration": 0,
    "start_time": "2022-06-07T13:44:03.437Z"
   },
   {
    "duration": 0,
    "start_time": "2022-06-07T13:44:03.438Z"
   },
   {
    "duration": 0,
    "start_time": "2022-06-07T13:44:03.439Z"
   },
   {
    "duration": 0,
    "start_time": "2022-06-07T13:44:03.440Z"
   },
   {
    "duration": 0,
    "start_time": "2022-06-07T13:44:03.441Z"
   },
   {
    "duration": 11,
    "start_time": "2022-06-07T13:53:05.171Z"
   },
   {
    "duration": 9,
    "start_time": "2022-06-07T13:53:37.409Z"
   },
   {
    "duration": 9,
    "start_time": "2022-06-07T13:53:43.357Z"
   },
   {
    "duration": 10,
    "start_time": "2022-06-07T13:53:47.535Z"
   },
   {
    "duration": 1151,
    "start_time": "2022-06-07T14:22:57.898Z"
   },
   {
    "duration": 1284,
    "start_time": "2022-06-07T14:22:59.050Z"
   },
   {
    "duration": 88,
    "start_time": "2022-06-07T14:23:00.335Z"
   },
   {
    "duration": 12,
    "start_time": "2022-06-07T14:23:00.424Z"
   },
   {
    "duration": 9,
    "start_time": "2022-06-07T14:23:00.438Z"
   },
   {
    "duration": 45,
    "start_time": "2022-06-07T14:23:00.449Z"
   },
   {
    "duration": 34,
    "start_time": "2022-06-07T14:23:00.495Z"
   },
   {
    "duration": 209,
    "start_time": "2022-06-07T14:23:00.530Z"
   },
   {
    "duration": 4,
    "start_time": "2022-06-07T14:23:00.740Z"
   },
   {
    "duration": 80352,
    "start_time": "2022-06-07T14:23:00.746Z"
   },
   {
    "duration": 5,
    "start_time": "2022-06-07T14:24:21.100Z"
   },
   {
    "duration": 20,
    "start_time": "2022-06-07T14:24:21.106Z"
   },
   {
    "duration": 11,
    "start_time": "2022-06-07T14:24:21.128Z"
   },
   {
    "duration": 25,
    "start_time": "2022-06-07T14:24:21.142Z"
   },
   {
    "duration": 229,
    "start_time": "2022-06-07T14:24:21.169Z"
   },
   {
    "duration": 9443,
    "start_time": "2022-06-07T14:24:21.400Z"
   },
   {
    "duration": 3,
    "start_time": "2022-06-07T14:24:30.845Z"
   },
   {
    "duration": 5612594,
    "start_time": "2022-06-07T14:24:30.849Z"
   },
   {
    "duration": 1120,
    "start_time": "2022-06-07T16:00:59.263Z"
   },
   {
    "duration": 718,
    "start_time": "2022-06-07T16:01:00.385Z"
   },
   {
    "duration": 77,
    "start_time": "2022-06-07T16:01:01.105Z"
   },
   {
    "duration": 12,
    "start_time": "2022-06-07T16:01:01.184Z"
   },
   {
    "duration": 11,
    "start_time": "2022-06-07T16:01:01.197Z"
   },
   {
    "duration": 36,
    "start_time": "2022-06-07T16:01:01.209Z"
   },
   {
    "duration": 26,
    "start_time": "2022-06-07T16:01:01.247Z"
   },
   {
    "duration": 203,
    "start_time": "2022-06-07T16:01:01.274Z"
   },
   {
    "duration": 3,
    "start_time": "2022-06-07T16:01:01.479Z"
   },
   {
    "duration": 87730,
    "start_time": "2022-06-07T16:01:01.484Z"
   },
   {
    "duration": 9,
    "start_time": "2022-06-07T16:02:29.216Z"
   },
   {
    "duration": 16,
    "start_time": "2022-06-07T16:02:29.227Z"
   },
   {
    "duration": 15,
    "start_time": "2022-06-07T16:02:29.245Z"
   },
   {
    "duration": 21,
    "start_time": "2022-06-07T16:02:29.262Z"
   },
   {
    "duration": 228,
    "start_time": "2022-06-07T16:02:29.284Z"
   },
   {
    "duration": 10381,
    "start_time": "2022-06-07T16:02:29.514Z"
   },
   {
    "duration": 3,
    "start_time": "2022-06-07T16:02:39.897Z"
   },
   {
    "duration": 1056,
    "start_time": "2022-06-07T16:03:33.655Z"
   },
   {
    "duration": 690,
    "start_time": "2022-06-07T16:03:34.713Z"
   },
   {
    "duration": 78,
    "start_time": "2022-06-07T16:03:35.404Z"
   },
   {
    "duration": 6,
    "start_time": "2022-06-07T16:03:35.484Z"
   },
   {
    "duration": 6,
    "start_time": "2022-06-07T16:03:35.492Z"
   },
   {
    "duration": 43,
    "start_time": "2022-06-07T16:03:35.499Z"
   },
   {
    "duration": 24,
    "start_time": "2022-06-07T16:03:35.543Z"
   },
   {
    "duration": 210,
    "start_time": "2022-06-07T16:03:35.568Z"
   },
   {
    "duration": 4,
    "start_time": "2022-06-07T16:03:35.779Z"
   },
   {
    "duration": 87555,
    "start_time": "2022-06-07T16:03:35.784Z"
   },
   {
    "duration": 5,
    "start_time": "2022-06-07T16:05:03.342Z"
   },
   {
    "duration": 15,
    "start_time": "2022-06-07T16:05:03.349Z"
   },
   {
    "duration": 16,
    "start_time": "2022-06-07T16:05:03.365Z"
   },
   {
    "duration": 20,
    "start_time": "2022-06-07T16:05:03.383Z"
   },
   {
    "duration": 164,
    "start_time": "2022-06-07T16:05:03.404Z"
   },
   {
    "duration": 10679,
    "start_time": "2022-06-07T16:05:03.569Z"
   },
   {
    "duration": 42761,
    "start_time": "2022-06-07T16:05:14.250Z"
   },
   {
    "duration": 120,
    "start_time": "2022-06-07T16:05:57.013Z"
   },
   {
    "duration": 0,
    "start_time": "2022-06-07T16:05:57.134Z"
   },
   {
    "duration": 0,
    "start_time": "2022-06-07T16:05:57.136Z"
   },
   {
    "duration": 0,
    "start_time": "2022-06-07T16:05:57.137Z"
   },
   {
    "duration": 0,
    "start_time": "2022-06-07T16:05:57.139Z"
   },
   {
    "duration": 0,
    "start_time": "2022-06-07T16:05:57.140Z"
   },
   {
    "duration": 0,
    "start_time": "2022-06-07T16:05:57.142Z"
   },
   {
    "duration": 0,
    "start_time": "2022-06-07T16:05:57.143Z"
   },
   {
    "duration": 0,
    "start_time": "2022-06-07T16:05:57.144Z"
   },
   {
    "duration": 0,
    "start_time": "2022-06-07T16:05:57.146Z"
   },
   {
    "duration": 0,
    "start_time": "2022-06-07T16:05:57.148Z"
   },
   {
    "duration": 0,
    "start_time": "2022-06-07T16:05:57.149Z"
   },
   {
    "duration": 0,
    "start_time": "2022-06-07T16:05:57.150Z"
   },
   {
    "duration": 0,
    "start_time": "2022-06-07T16:05:57.152Z"
   },
   {
    "duration": 0,
    "start_time": "2022-06-07T16:05:57.154Z"
   },
   {
    "duration": 3994833,
    "start_time": "2022-06-07T16:07:19.634Z"
   },
   {
    "duration": 1215,
    "start_time": "2022-06-07T17:23:22.704Z"
   },
   {
    "duration": 698,
    "start_time": "2022-06-07T17:23:23.920Z"
   },
   {
    "duration": 78,
    "start_time": "2022-06-07T17:23:24.620Z"
   },
   {
    "duration": 3,
    "start_time": "2022-06-07T17:23:24.699Z"
   },
   {
    "duration": 4,
    "start_time": "2022-06-07T17:23:24.704Z"
   },
   {
    "duration": 42,
    "start_time": "2022-06-07T17:23:24.710Z"
   },
   {
    "duration": 25,
    "start_time": "2022-06-07T17:23:24.754Z"
   },
   {
    "duration": 208,
    "start_time": "2022-06-07T17:23:24.780Z"
   },
   {
    "duration": 3,
    "start_time": "2022-06-07T17:23:24.989Z"
   },
   {
    "duration": 75811,
    "start_time": "2022-06-07T17:23:24.993Z"
   },
   {
    "duration": 4,
    "start_time": "2022-06-07T17:24:40.806Z"
   },
   {
    "duration": 19,
    "start_time": "2022-06-07T17:24:40.811Z"
   },
   {
    "duration": 7,
    "start_time": "2022-06-07T17:24:40.831Z"
   },
   {
    "duration": 21,
    "start_time": "2022-06-07T17:24:40.840Z"
   },
   {
    "duration": 187,
    "start_time": "2022-06-07T17:24:40.863Z"
   },
   {
    "duration": 9155,
    "start_time": "2022-06-07T17:24:41.051Z"
   },
   {
    "duration": 40552,
    "start_time": "2022-06-07T17:24:50.207Z"
   },
   {
    "duration": 392143,
    "start_time": "2022-06-07T17:25:30.761Z"
   },
   {
    "duration": 1039927,
    "start_time": "2022-06-07T17:32:02.906Z"
   },
   {
    "duration": 96,
    "start_time": "2022-06-07T17:49:22.835Z"
   },
   {
    "duration": 28,
    "start_time": "2022-06-07T17:49:22.932Z"
   },
   {
    "duration": 2,
    "start_time": "2022-06-07T17:49:22.962Z"
   },
   {
    "duration": 32,
    "start_time": "2022-06-07T17:49:22.965Z"
   },
   {
    "duration": 0,
    "start_time": "2022-06-07T17:49:22.999Z"
   },
   {
    "duration": 0,
    "start_time": "2022-06-07T17:49:23.000Z"
   },
   {
    "duration": 0,
    "start_time": "2022-06-07T17:49:23.001Z"
   },
   {
    "duration": 0,
    "start_time": "2022-06-07T17:49:23.002Z"
   },
   {
    "duration": 0,
    "start_time": "2022-06-07T17:49:23.003Z"
   },
   {
    "duration": 0,
    "start_time": "2022-06-07T17:49:23.004Z"
   },
   {
    "duration": 0,
    "start_time": "2022-06-07T17:49:23.004Z"
   },
   {
    "duration": 0,
    "start_time": "2022-06-07T17:49:23.005Z"
   },
   {
    "duration": 0,
    "start_time": "2022-06-07T17:49:23.006Z"
   },
   {
    "duration": 114,
    "start_time": "2022-06-07T17:53:54.566Z"
   },
   {
    "duration": 19410,
    "start_time": "2022-06-07T17:54:13.715Z"
   },
   {
    "duration": 523572,
    "start_time": "2022-06-07T17:54:33.127Z"
   },
   {
    "duration": 1609821,
    "start_time": "2022-06-07T18:03:16.700Z"
   },
   {
    "duration": 4121207,
    "start_time": "2022-06-07T18:30:06.523Z"
   },
   {
    "duration": 0,
    "start_time": "2022-06-07T19:38:47.732Z"
   },
   {
    "duration": 1066,
    "start_time": "2022-06-07T20:54:04.745Z"
   },
   {
    "duration": 708,
    "start_time": "2022-06-07T20:54:05.813Z"
   },
   {
    "duration": 90,
    "start_time": "2022-06-07T20:54:06.523Z"
   },
   {
    "duration": 5,
    "start_time": "2022-06-07T20:54:06.625Z"
   },
   {
    "duration": 9,
    "start_time": "2022-06-07T20:54:06.632Z"
   },
   {
    "duration": 31,
    "start_time": "2022-06-07T20:54:06.643Z"
   },
   {
    "duration": 24,
    "start_time": "2022-06-07T20:54:06.676Z"
   },
   {
    "duration": 211,
    "start_time": "2022-06-07T20:54:06.701Z"
   },
   {
    "duration": 3,
    "start_time": "2022-06-07T20:54:06.914Z"
   },
   {
    "duration": 78356,
    "start_time": "2022-06-07T20:54:06.927Z"
   },
   {
    "duration": 2,
    "start_time": "2022-06-07T20:55:25.285Z"
   },
   {
    "duration": 9,
    "start_time": "2022-06-07T20:55:25.288Z"
   },
   {
    "duration": 18,
    "start_time": "2022-06-07T20:55:25.298Z"
   },
   {
    "duration": 26,
    "start_time": "2022-06-07T20:55:25.318Z"
   },
   {
    "duration": 152,
    "start_time": "2022-06-07T20:55:25.346Z"
   },
   {
    "duration": 9370,
    "start_time": "2022-06-07T20:55:25.500Z"
   },
   {
    "duration": 79668,
    "start_time": "2022-06-07T20:55:34.872Z"
   },
   {
    "duration": 399772,
    "start_time": "2022-06-07T20:56:54.542Z"
   },
   {
    "duration": 549120,
    "start_time": "2022-06-07T21:03:34.315Z"
   },
   {
    "duration": 3,
    "start_time": "2022-06-07T21:12:43.436Z"
   },
   {
    "duration": 9,
    "start_time": "2022-06-07T21:12:43.440Z"
   },
   {
    "duration": 4,
    "start_time": "2022-06-07T21:12:43.451Z"
   },
   {
    "duration": 4,
    "start_time": "2022-06-07T21:12:43.456Z"
   },
   {
    "duration": 4,
    "start_time": "2022-06-07T21:12:43.461Z"
   },
   {
    "duration": 7,
    "start_time": "2022-06-07T21:12:43.466Z"
   },
   {
    "duration": 6,
    "start_time": "2022-06-07T21:14:51.405Z"
   },
   {
    "duration": 9,
    "start_time": "2022-06-07T21:15:04.422Z"
   },
   {
    "duration": 11,
    "start_time": "2022-06-07T21:17:50.489Z"
   },
   {
    "duration": 126,
    "start_time": "2022-06-07T21:17:53.967Z"
   },
   {
    "duration": 21,
    "start_time": "2022-06-07T21:18:14.914Z"
   },
   {
    "duration": 2,
    "start_time": "2022-06-07T21:18:15.748Z"
   },
   {
    "duration": 9325,
    "start_time": "2022-06-07T21:18:16.598Z"
   },
   {
    "duration": 62404,
    "start_time": "2022-06-07T21:18:25.926Z"
   },
   {
    "duration": 357401,
    "start_time": "2022-06-07T21:19:28.332Z"
   },
   {
    "duration": 1128,
    "start_time": "2022-06-07T22:09:28.104Z"
   },
   {
    "duration": 692,
    "start_time": "2022-06-07T22:09:29.234Z"
   },
   {
    "duration": 73,
    "start_time": "2022-06-07T22:09:29.927Z"
   },
   {
    "duration": 3,
    "start_time": "2022-06-07T22:09:30.002Z"
   },
   {
    "duration": 6,
    "start_time": "2022-06-07T22:09:30.006Z"
   },
   {
    "duration": 28,
    "start_time": "2022-06-07T22:09:30.025Z"
   },
   {
    "duration": 24,
    "start_time": "2022-06-07T22:09:30.054Z"
   },
   {
    "duration": 215,
    "start_time": "2022-06-07T22:09:30.079Z"
   },
   {
    "duration": 3,
    "start_time": "2022-06-07T22:09:30.296Z"
   },
   {
    "duration": 78010,
    "start_time": "2022-06-07T22:09:30.301Z"
   },
   {
    "duration": 16,
    "start_time": "2022-06-07T22:10:48.312Z"
   },
   {
    "duration": 7,
    "start_time": "2022-06-07T22:10:48.330Z"
   },
   {
    "duration": 11,
    "start_time": "2022-06-07T22:10:48.339Z"
   },
   {
    "duration": 21,
    "start_time": "2022-06-07T22:10:48.351Z"
   },
   {
    "duration": 160,
    "start_time": "2022-06-07T22:10:48.373Z"
   },
   {
    "duration": 9574,
    "start_time": "2022-06-07T22:10:48.535Z"
   },
   {
    "duration": 79013,
    "start_time": "2022-06-07T22:10:58.110Z"
   },
   {
    "duration": 385361,
    "start_time": "2022-06-07T22:12:17.124Z"
   },
   {
    "duration": 517045,
    "start_time": "2022-06-07T22:18:42.486Z"
   },
   {
    "duration": 8,
    "start_time": "2022-06-07T22:27:19.533Z"
   },
   {
    "duration": 12,
    "start_time": "2022-06-07T22:27:19.543Z"
   },
   {
    "duration": 22,
    "start_time": "2022-06-07T22:27:19.556Z"
   },
   {
    "duration": 2,
    "start_time": "2022-06-07T22:27:19.579Z"
   },
   {
    "duration": 9473,
    "start_time": "2022-06-07T22:27:19.583Z"
   },
   {
    "duration": 62119,
    "start_time": "2022-06-07T22:27:29.057Z"
   },
   {
    "duration": 361161,
    "start_time": "2022-06-07T22:28:31.177Z"
   },
   {
    "duration": 0,
    "start_time": "2022-06-07T22:34:32.340Z"
   },
   {
    "duration": 0,
    "start_time": "2022-06-07T22:34:32.341Z"
   },
   {
    "duration": 0,
    "start_time": "2022-06-07T22:34:32.342Z"
   },
   {
    "duration": 0,
    "start_time": "2022-06-07T22:34:32.343Z"
   },
   {
    "duration": 0,
    "start_time": "2022-06-07T22:34:32.344Z"
   },
   {
    "duration": 0,
    "start_time": "2022-06-07T22:34:32.344Z"
   },
   {
    "duration": 0,
    "start_time": "2022-06-07T22:34:32.345Z"
   },
   {
    "duration": 0,
    "start_time": "2022-06-07T22:34:32.346Z"
   },
   {
    "duration": 373618,
    "start_time": "2022-06-07T22:35:55.842Z"
   },
   {
    "duration": 0,
    "start_time": "2022-06-07T22:42:09.461Z"
   },
   {
    "duration": 0,
    "start_time": "2022-06-07T22:42:09.462Z"
   },
   {
    "duration": 0,
    "start_time": "2022-06-07T22:42:09.463Z"
   },
   {
    "duration": 367219,
    "start_time": "2022-06-07T22:42:17.684Z"
   },
   {
    "duration": 1072,
    "start_time": "2022-06-08T06:20:16.936Z"
   },
   {
    "duration": 678,
    "start_time": "2022-06-08T06:20:18.010Z"
   },
   {
    "duration": 80,
    "start_time": "2022-06-08T06:20:18.690Z"
   },
   {
    "duration": 7,
    "start_time": "2022-06-08T06:20:18.771Z"
   },
   {
    "duration": 22,
    "start_time": "2022-06-08T06:20:18.779Z"
   },
   {
    "duration": 43,
    "start_time": "2022-06-08T06:20:18.802Z"
   },
   {
    "duration": 31,
    "start_time": "2022-06-08T06:20:18.846Z"
   },
   {
    "duration": 206,
    "start_time": "2022-06-08T06:20:18.878Z"
   },
   {
    "duration": 3,
    "start_time": "2022-06-08T06:20:19.086Z"
   },
   {
    "duration": 78328,
    "start_time": "2022-06-08T06:20:19.090Z"
   },
   {
    "duration": 9,
    "start_time": "2022-06-08T06:21:37.419Z"
   },
   {
    "duration": 20,
    "start_time": "2022-06-08T06:21:37.429Z"
   },
   {
    "duration": 26,
    "start_time": "2022-06-08T06:21:37.450Z"
   },
   {
    "duration": 32,
    "start_time": "2022-06-08T06:21:37.478Z"
   },
   {
    "duration": 221,
    "start_time": "2022-06-08T06:21:37.511Z"
   },
   {
    "duration": 9346,
    "start_time": "2022-06-08T06:21:37.733Z"
   },
   {
    "duration": 79214,
    "start_time": "2022-06-08T06:21:47.080Z"
   },
   {
    "duration": 389130,
    "start_time": "2022-06-08T06:23:06.295Z"
   },
   {
    "duration": 498208,
    "start_time": "2022-06-08T06:29:35.426Z"
   },
   {
    "duration": 8,
    "start_time": "2022-06-08T06:37:53.636Z"
   },
   {
    "duration": 12,
    "start_time": "2022-06-08T06:37:53.645Z"
   },
   {
    "duration": 19,
    "start_time": "2022-06-08T06:37:53.659Z"
   },
   {
    "duration": 2,
    "start_time": "2022-06-08T06:37:53.679Z"
   },
   {
    "duration": 9370,
    "start_time": "2022-06-08T06:37:53.683Z"
   },
   {
    "duration": 60767,
    "start_time": "2022-06-08T06:38:03.055Z"
   },
   {
    "duration": 353743,
    "start_time": "2022-06-08T06:39:03.825Z"
   },
   {
    "duration": 1249858,
    "start_time": "2022-06-08T06:44:57.570Z"
   },
   {
    "duration": 5,
    "start_time": "2022-06-08T07:05:47.429Z"
   },
   {
    "duration": 211,
    "start_time": "2022-06-08T07:05:47.436Z"
   },
   {
    "duration": 10,
    "start_time": "2022-06-08T07:11:32.475Z"
   },
   {
    "duration": 4,
    "start_time": "2022-06-08T07:12:12.739Z"
   },
   {
    "duration": 17,
    "start_time": "2022-06-08T07:12:19.179Z"
   },
   {
    "duration": 7,
    "start_time": "2022-06-08T07:12:47.714Z"
   },
   {
    "duration": 4,
    "start_time": "2022-06-08T07:13:21.114Z"
   },
   {
    "duration": 6,
    "start_time": "2022-06-08T07:13:21.338Z"
   },
   {
    "duration": 1212,
    "start_time": "2022-06-08T07:46:23.016Z"
   },
   {
    "duration": 2276,
    "start_time": "2022-06-08T07:46:24.230Z"
   },
   {
    "duration": 80,
    "start_time": "2022-06-08T07:46:26.508Z"
   },
   {
    "duration": 13,
    "start_time": "2022-06-08T07:46:26.590Z"
   },
   {
    "duration": 19,
    "start_time": "2022-06-08T07:46:26.605Z"
   },
   {
    "duration": 34,
    "start_time": "2022-06-08T07:46:26.625Z"
   },
   {
    "duration": 25,
    "start_time": "2022-06-08T07:46:26.660Z"
   },
   {
    "duration": 218,
    "start_time": "2022-06-08T07:46:26.686Z"
   },
   {
    "duration": 4,
    "start_time": "2022-06-08T07:46:26.906Z"
   },
   {
    "duration": 87327,
    "start_time": "2022-06-08T07:46:26.911Z"
   },
   {
    "duration": 6,
    "start_time": "2022-06-08T07:47:54.240Z"
   },
   {
    "duration": 13,
    "start_time": "2022-06-08T07:47:54.247Z"
   },
   {
    "duration": 17,
    "start_time": "2022-06-08T07:47:54.262Z"
   },
   {
    "duration": 23,
    "start_time": "2022-06-08T07:47:54.282Z"
   },
   {
    "duration": 197,
    "start_time": "2022-06-08T07:47:54.307Z"
   },
   {
    "duration": 10467,
    "start_time": "2022-06-08T07:47:54.506Z"
   },
   {
    "duration": 99211,
    "start_time": "2022-06-08T07:48:04.975Z"
   },
   {
    "duration": 480468,
    "start_time": "2022-06-08T07:49:44.188Z"
   },
   {
    "duration": 743887,
    "start_time": "2022-06-08T07:57:44.658Z"
   },
   {
    "duration": 9,
    "start_time": "2022-06-08T08:10:08.547Z"
   },
   {
    "duration": 14,
    "start_time": "2022-06-08T08:10:08.557Z"
   },
   {
    "duration": 28,
    "start_time": "2022-06-08T08:10:08.573Z"
   },
   {
    "duration": 23,
    "start_time": "2022-06-08T08:10:08.603Z"
   },
   {
    "duration": 10944,
    "start_time": "2022-06-08T08:10:08.628Z"
   },
   {
    "duration": 81318,
    "start_time": "2022-06-08T08:10:19.574Z"
   },
   {
    "duration": 465209,
    "start_time": "2022-06-08T08:11:40.894Z"
   },
   {
    "duration": 1508126,
    "start_time": "2022-06-08T08:19:26.105Z"
   },
   {
    "duration": 93,
    "start_time": "2022-06-08T08:44:34.234Z"
   },
   {
    "duration": 14,
    "start_time": "2022-06-08T08:44:34.329Z"
   },
   {
    "duration": 1301,
    "start_time": "2022-06-08T21:25:03.390Z"
   },
   {
    "duration": 2447,
    "start_time": "2022-06-08T21:25:04.693Z"
   },
   {
    "duration": 13,
    "start_time": "2022-06-08T21:25:07.142Z"
   },
   {
    "duration": 26,
    "start_time": "2022-06-08T21:25:07.156Z"
   },
   {
    "duration": 29,
    "start_time": "2022-06-08T21:25:07.185Z"
   },
   {
    "duration": 51,
    "start_time": "2022-06-08T21:25:07.216Z"
   },
   {
    "duration": 39,
    "start_time": "2022-06-08T21:25:07.269Z"
   },
   {
    "duration": 243,
    "start_time": "2022-06-08T21:25:07.310Z"
   },
   {
    "duration": 3,
    "start_time": "2022-06-08T21:25:07.558Z"
   },
   {
    "duration": 91745,
    "start_time": "2022-06-08T21:25:07.563Z"
   },
   {
    "duration": 7,
    "start_time": "2022-06-08T21:26:39.309Z"
   },
   {
    "duration": 23,
    "start_time": "2022-06-08T21:26:39.317Z"
   },
   {
    "duration": 17,
    "start_time": "2022-06-08T21:26:39.342Z"
   },
   {
    "duration": 40,
    "start_time": "2022-06-08T21:26:39.362Z"
   },
   {
    "duration": 124,
    "start_time": "2022-06-08T21:26:39.404Z"
   },
   {
    "duration": 10883,
    "start_time": "2022-06-08T21:26:39.530Z"
   },
   {
    "duration": 9,
    "start_time": "2022-06-08T21:26:50.415Z"
   },
   {
    "duration": 15,
    "start_time": "2022-06-08T21:26:50.426Z"
   },
   {
    "duration": 32,
    "start_time": "2022-06-08T21:26:50.443Z"
   },
   {
    "duration": 2,
    "start_time": "2022-06-08T21:26:50.477Z"
   },
   {
    "duration": 10816,
    "start_time": "2022-06-08T21:26:50.481Z"
   },
   {
    "duration": 569,
    "start_time": "2022-06-08T21:28:05.316Z"
   },
   {
    "duration": 4,
    "start_time": "2022-06-08T21:28:52.833Z"
   },
   {
    "duration": 441,
    "start_time": "2022-06-08T21:28:57.387Z"
   },
   {
    "duration": 623,
    "start_time": "2022-06-08T21:29:57.686Z"
   },
   {
    "duration": 539,
    "start_time": "2022-06-08T21:30:08.145Z"
   },
   {
    "duration": 6,
    "start_time": "2022-06-08T21:30:26.383Z"
   },
   {
    "duration": 372,
    "start_time": "2022-06-08T21:31:04.717Z"
   },
   {
    "duration": 7,
    "start_time": "2022-06-08T21:41:44.052Z"
   },
   {
    "duration": 7,
    "start_time": "2022-06-08T21:41:44.252Z"
   },
   {
    "duration": 24,
    "start_time": "2022-06-08T21:42:06.150Z"
   },
   {
    "duration": 3419,
    "start_time": "2022-06-08T21:48:53.920Z"
   },
   {
    "duration": 667,
    "start_time": "2022-06-08T22:04:31.897Z"
   },
   {
    "duration": 312,
    "start_time": "2022-06-08T22:05:34.790Z"
   },
   {
    "duration": 418,
    "start_time": "2022-06-08T22:05:58.294Z"
   },
   {
    "duration": 81,
    "start_time": "2022-06-08T22:05:59.350Z"
   },
   {
    "duration": 406,
    "start_time": "2022-06-08T22:07:21.114Z"
   },
   {
    "duration": 3987,
    "start_time": "2022-06-08T22:27:53.800Z"
   },
   {
    "duration": 757,
    "start_time": "2022-06-08T22:27:57.789Z"
   },
   {
    "duration": 15,
    "start_time": "2022-06-08T22:27:58.547Z"
   },
   {
    "duration": 8,
    "start_time": "2022-06-08T22:27:58.563Z"
   },
   {
    "duration": 6,
    "start_time": "2022-06-08T22:27:58.572Z"
   },
   {
    "duration": 35,
    "start_time": "2022-06-08T22:27:58.580Z"
   },
   {
    "duration": 43,
    "start_time": "2022-06-08T22:27:58.616Z"
   },
   {
    "duration": 223,
    "start_time": "2022-06-08T22:27:58.661Z"
   },
   {
    "duration": 387,
    "start_time": "2022-06-08T22:27:58.885Z"
   },
   {
    "duration": 5,
    "start_time": "2022-06-08T22:27:59.274Z"
   },
   {
    "duration": 5,
    "start_time": "2022-06-08T22:27:59.281Z"
   },
   {
    "duration": 88756,
    "start_time": "2022-06-08T22:27:59.288Z"
   },
   {
    "duration": 16,
    "start_time": "2022-06-08T22:29:28.047Z"
   },
   {
    "duration": 14,
    "start_time": "2022-06-08T22:29:28.067Z"
   },
   {
    "duration": 7,
    "start_time": "2022-06-08T22:29:28.083Z"
   },
   {
    "duration": 9,
    "start_time": "2022-06-08T22:29:28.092Z"
   },
   {
    "duration": 14,
    "start_time": "2022-06-08T22:29:28.103Z"
   },
   {
    "duration": 17,
    "start_time": "2022-06-08T22:29:28.119Z"
   },
   {
    "duration": 36,
    "start_time": "2022-06-08T22:29:28.137Z"
   },
   {
    "duration": 193,
    "start_time": "2022-06-08T22:29:28.174Z"
   },
   {
    "duration": 11,
    "start_time": "2022-06-08T22:29:28.369Z"
   },
   {
    "duration": 11,
    "start_time": "2022-06-08T22:29:28.382Z"
   },
   {
    "duration": 16,
    "start_time": "2022-06-08T22:29:28.395Z"
   },
   {
    "duration": 49,
    "start_time": "2022-06-08T22:29:28.413Z"
   },
   {
    "duration": 10820,
    "start_time": "2022-06-08T22:29:28.464Z"
   },
   {
    "duration": 13,
    "start_time": "2022-06-08T22:30:45.572Z"
   },
   {
    "duration": 312,
    "start_time": "2022-06-08T22:30:58.397Z"
   },
   {
    "duration": 5,
    "start_time": "2022-06-08T22:31:03.080Z"
   },
   {
    "duration": 407,
    "start_time": "2022-06-08T22:31:47.123Z"
   },
   {
    "duration": 466,
    "start_time": "2022-06-08T22:32:33.645Z"
   },
   {
    "duration": 185281,
    "start_time": "2022-06-08T22:32:47.070Z"
   },
   {
    "duration": 8,
    "start_time": "2022-06-08T22:37:55.852Z"
   },
   {
    "duration": 599,
    "start_time": "2022-06-08T22:39:43.515Z"
   },
   {
    "duration": 71252,
    "start_time": "2022-06-08T22:39:44.115Z"
   },
   {
    "duration": 7,
    "start_time": "2022-06-08T22:40:55.369Z"
   },
   {
    "duration": 429,
    "start_time": "2022-06-08T22:41:59.683Z"
   },
   {
    "duration": 4101,
    "start_time": "2022-06-08T22:49:11.944Z"
   },
   {
    "duration": 777,
    "start_time": "2022-06-08T22:49:16.047Z"
   },
   {
    "duration": 12,
    "start_time": "2022-06-08T22:49:16.826Z"
   },
   {
    "duration": 21,
    "start_time": "2022-06-08T22:49:16.839Z"
   },
   {
    "duration": 24,
    "start_time": "2022-06-08T22:49:16.862Z"
   },
   {
    "duration": 42,
    "start_time": "2022-06-08T22:49:16.888Z"
   },
   {
    "duration": 51,
    "start_time": "2022-06-08T22:49:16.931Z"
   },
   {
    "duration": 252,
    "start_time": "2022-06-08T22:49:16.983Z"
   },
   {
    "duration": 400,
    "start_time": "2022-06-08T22:49:17.237Z"
   },
   {
    "duration": 5,
    "start_time": "2022-06-08T22:49:17.639Z"
   },
   {
    "duration": 34,
    "start_time": "2022-06-08T22:49:17.646Z"
   },
   {
    "duration": 96280,
    "start_time": "2022-06-08T22:49:17.681Z"
   },
   {
    "duration": 9,
    "start_time": "2022-06-08T22:50:53.963Z"
   },
   {
    "duration": 13,
    "start_time": "2022-06-08T22:50:53.975Z"
   },
   {
    "duration": 6,
    "start_time": "2022-06-08T22:50:53.990Z"
   },
   {
    "duration": 15,
    "start_time": "2022-06-08T22:50:53.998Z"
   },
   {
    "duration": 2,
    "start_time": "2022-06-08T22:50:54.015Z"
   },
   {
    "duration": 13,
    "start_time": "2022-06-08T22:50:54.018Z"
   },
   {
    "duration": 41,
    "start_time": "2022-06-08T22:50:54.033Z"
   },
   {
    "duration": 194,
    "start_time": "2022-06-08T22:50:54.076Z"
   },
   {
    "duration": 11,
    "start_time": "2022-06-08T22:50:54.272Z"
   },
   {
    "duration": 12,
    "start_time": "2022-06-08T22:50:54.284Z"
   },
   {
    "duration": 22,
    "start_time": "2022-06-08T22:50:54.298Z"
   },
   {
    "duration": 26,
    "start_time": "2022-06-08T22:50:54.321Z"
   },
   {
    "duration": 10843,
    "start_time": "2022-06-08T22:50:54.348Z"
   },
   {
    "duration": 12,
    "start_time": "2022-06-08T22:51:05.193Z"
   },
   {
    "duration": 14,
    "start_time": "2022-06-08T22:51:05.206Z"
   },
   {
    "duration": 403,
    "start_time": "2022-06-08T22:51:05.221Z"
   },
   {
    "duration": 444,
    "start_time": "2022-06-08T22:51:05.626Z"
   },
   {
    "duration": 186588,
    "start_time": "2022-06-08T22:51:06.072Z"
   },
   {
    "duration": 9,
    "start_time": "2022-06-08T22:54:12.662Z"
   },
   {
    "duration": 7,
    "start_time": "2022-06-08T22:54:12.672Z"
   },
   {
    "duration": 9,
    "start_time": "2022-06-08T22:54:12.681Z"
   },
   {
    "duration": 11,
    "start_time": "2022-06-08T22:54:12.692Z"
   },
   {
    "duration": 371,
    "start_time": "2022-06-08T22:54:12.704Z"
   },
   {
    "duration": 0,
    "start_time": "2022-06-08T22:54:13.077Z"
   },
   {
    "duration": 0,
    "start_time": "2022-06-08T22:54:13.079Z"
   },
   {
    "duration": 0,
    "start_time": "2022-06-08T22:54:13.080Z"
   },
   {
    "duration": 4,
    "start_time": "2022-06-08T22:55:49.794Z"
   },
   {
    "duration": 4,
    "start_time": "2022-06-08T22:55:55.886Z"
   },
   {
    "duration": 4,
    "start_time": "2022-06-08T22:56:15.903Z"
   },
   {
    "duration": 4,
    "start_time": "2022-06-08T22:56:26.651Z"
   },
   {
    "duration": 420,
    "start_time": "2022-06-08T22:58:55.208Z"
   },
   {
    "duration": 40,
    "start_time": "2022-06-08T22:58:55.948Z"
   },
   {
    "duration": 9,
    "start_time": "2022-06-08T22:58:56.714Z"
   },
   {
    "duration": 392,
    "start_time": "2022-06-08T22:59:08.154Z"
   },
   {
    "duration": 4011,
    "start_time": "2022-06-08T22:59:17.732Z"
   },
   {
    "duration": 772,
    "start_time": "2022-06-08T22:59:21.745Z"
   },
   {
    "duration": 11,
    "start_time": "2022-06-08T22:59:22.518Z"
   },
   {
    "duration": 16,
    "start_time": "2022-06-08T22:59:22.531Z"
   },
   {
    "duration": 22,
    "start_time": "2022-06-08T22:59:22.549Z"
   },
   {
    "duration": 42,
    "start_time": "2022-06-08T22:59:22.572Z"
   },
   {
    "duration": 36,
    "start_time": "2022-06-08T22:59:22.615Z"
   },
   {
    "duration": 212,
    "start_time": "2022-06-08T22:59:22.652Z"
   },
   {
    "duration": 395,
    "start_time": "2022-06-08T22:59:22.866Z"
   },
   {
    "duration": 6,
    "start_time": "2022-06-08T22:59:23.262Z"
   },
   {
    "duration": 5,
    "start_time": "2022-06-08T22:59:23.269Z"
   },
   {
    "duration": 0,
    "start_time": "2022-06-08T23:04:33.720Z"
   },
   {
    "duration": 4074,
    "start_time": "2022-06-08T23:04:40.990Z"
   },
   {
    "duration": 787,
    "start_time": "2022-06-08T23:04:45.066Z"
   },
   {
    "duration": 14,
    "start_time": "2022-06-08T23:04:45.855Z"
   },
   {
    "duration": 3,
    "start_time": "2022-06-08T23:04:45.872Z"
   },
   {
    "duration": 7,
    "start_time": "2022-06-08T23:04:45.877Z"
   },
   {
    "duration": 44,
    "start_time": "2022-06-08T23:04:45.885Z"
   },
   {
    "duration": 58,
    "start_time": "2022-06-08T23:04:45.931Z"
   },
   {
    "duration": 254,
    "start_time": "2022-06-08T23:04:45.990Z"
   },
   {
    "duration": 385,
    "start_time": "2022-06-08T23:04:46.245Z"
   },
   {
    "duration": 5,
    "start_time": "2022-06-08T23:04:46.633Z"
   },
   {
    "duration": 19,
    "start_time": "2022-06-08T23:04:46.640Z"
   },
   {
    "duration": 7,
    "start_time": "2022-06-08T23:04:46.660Z"
   },
   {
    "duration": 11,
    "start_time": "2022-06-08T23:04:46.669Z"
   },
   {
    "duration": 6,
    "start_time": "2022-06-08T23:04:46.682Z"
   },
   {
    "duration": 8,
    "start_time": "2022-06-08T23:04:46.690Z"
   },
   {
    "duration": 2,
    "start_time": "2022-06-08T23:04:46.699Z"
   },
   {
    "duration": 14,
    "start_time": "2022-06-08T23:04:46.703Z"
   },
   {
    "duration": 56,
    "start_time": "2022-06-08T23:04:46.719Z"
   },
   {
    "duration": 222,
    "start_time": "2022-06-08T23:04:46.777Z"
   },
   {
    "duration": 12,
    "start_time": "2022-06-08T23:04:47.001Z"
   },
   {
    "duration": 16,
    "start_time": "2022-06-08T23:04:47.015Z"
   },
   {
    "duration": 14,
    "start_time": "2022-06-08T23:04:47.032Z"
   },
   {
    "duration": 35,
    "start_time": "2022-06-08T23:04:47.048Z"
   },
   {
    "duration": 11682,
    "start_time": "2022-06-08T23:04:47.085Z"
   },
   {
    "duration": 13,
    "start_time": "2022-06-08T23:04:58.768Z"
   },
   {
    "duration": 6,
    "start_time": "2022-06-08T23:04:58.783Z"
   },
   {
    "duration": 449,
    "start_time": "2022-06-08T23:04:58.791Z"
   },
   {
    "duration": 566,
    "start_time": "2022-06-08T23:04:59.243Z"
   },
   {
    "duration": 21,
    "start_time": "2022-06-08T23:04:59.811Z"
   },
   {
    "duration": 208753,
    "start_time": "2022-06-08T23:05:19.469Z"
   },
   {
    "duration": 7,
    "start_time": "2022-06-08T23:08:48.224Z"
   },
   {
    "duration": 7,
    "start_time": "2022-06-08T23:09:46.403Z"
   },
   {
    "duration": 7,
    "start_time": "2022-06-08T23:09:51.930Z"
   },
   {
    "duration": 6,
    "start_time": "2022-06-08T23:09:57.459Z"
   },
   {
    "duration": 320,
    "start_time": "2022-06-08T23:10:09.668Z"
   },
   {
    "duration": 4,
    "start_time": "2022-06-08T23:10:46.856Z"
   },
   {
    "duration": 8,
    "start_time": "2022-06-08T23:12:36.348Z"
   },
   {
    "duration": 4,
    "start_time": "2022-06-08T23:13:19.652Z"
   },
   {
    "duration": 4,
    "start_time": "2022-06-08T23:13:56.842Z"
   },
   {
    "duration": 25,
    "start_time": "2022-06-08T23:14:50.459Z"
   },
   {
    "duration": 4,
    "start_time": "2022-06-08T23:15:44.409Z"
   },
   {
    "duration": 4,
    "start_time": "2022-06-08T23:15:55.620Z"
   },
   {
    "duration": 5,
    "start_time": "2022-06-08T23:16:07.618Z"
   },
   {
    "duration": 3,
    "start_time": "2022-06-08T23:17:29.386Z"
   },
   {
    "duration": 5,
    "start_time": "2022-06-08T23:18:09.143Z"
   },
   {
    "duration": 21,
    "start_time": "2022-06-08T23:18:20.302Z"
   },
   {
    "duration": 3871,
    "start_time": "2022-06-08T23:18:43.556Z"
   },
   {
    "duration": 764,
    "start_time": "2022-06-08T23:18:47.428Z"
   },
   {
    "duration": 10,
    "start_time": "2022-06-08T23:18:48.194Z"
   },
   {
    "duration": 7,
    "start_time": "2022-06-08T23:18:48.206Z"
   },
   {
    "duration": 10,
    "start_time": "2022-06-08T23:18:48.215Z"
   },
   {
    "duration": 43,
    "start_time": "2022-06-08T23:18:48.226Z"
   },
   {
    "duration": 28,
    "start_time": "2022-06-08T23:18:48.270Z"
   },
   {
    "duration": 234,
    "start_time": "2022-06-08T23:18:48.300Z"
   },
   {
    "duration": 365,
    "start_time": "2022-06-08T23:18:48.536Z"
   },
   {
    "duration": 5,
    "start_time": "2022-06-08T23:18:48.904Z"
   },
   {
    "duration": 8,
    "start_time": "2022-06-08T23:18:48.911Z"
   },
   {
    "duration": 12,
    "start_time": "2022-06-08T23:18:48.920Z"
   },
   {
    "duration": 7,
    "start_time": "2022-06-08T23:18:48.934Z"
   },
   {
    "duration": 21,
    "start_time": "2022-06-08T23:18:48.943Z"
   },
   {
    "duration": 9,
    "start_time": "2022-06-08T23:18:48.967Z"
   },
   {
    "duration": 3,
    "start_time": "2022-06-08T23:18:48.978Z"
   },
   {
    "duration": 21,
    "start_time": "2022-06-08T23:18:48.982Z"
   },
   {
    "duration": 55,
    "start_time": "2022-06-08T23:18:49.005Z"
   },
   {
    "duration": 4,
    "start_time": "2022-06-08T23:18:49.062Z"
   },
   {
    "duration": 12,
    "start_time": "2022-06-08T23:18:49.068Z"
   },
   {
    "duration": 212,
    "start_time": "2022-06-08T23:18:49.082Z"
   },
   {
    "duration": 13,
    "start_time": "2022-06-08T23:18:49.295Z"
   },
   {
    "duration": 317,
    "start_time": "2022-06-08T23:18:49.310Z"
   },
   {
    "duration": 0,
    "start_time": "2022-06-08T23:18:49.630Z"
   },
   {
    "duration": 0,
    "start_time": "2022-06-08T23:18:49.632Z"
   },
   {
    "duration": 0,
    "start_time": "2022-06-08T23:18:49.633Z"
   },
   {
    "duration": 0,
    "start_time": "2022-06-08T23:18:49.635Z"
   },
   {
    "duration": 0,
    "start_time": "2022-06-08T23:18:49.636Z"
   },
   {
    "duration": 0,
    "start_time": "2022-06-08T23:18:49.638Z"
   },
   {
    "duration": 0,
    "start_time": "2022-06-08T23:18:49.639Z"
   },
   {
    "duration": 0,
    "start_time": "2022-06-08T23:18:49.659Z"
   },
   {
    "duration": 0,
    "start_time": "2022-06-08T23:18:49.661Z"
   },
   {
    "duration": 0,
    "start_time": "2022-06-08T23:18:49.662Z"
   },
   {
    "duration": 0,
    "start_time": "2022-06-08T23:18:49.664Z"
   },
   {
    "duration": 0,
    "start_time": "2022-06-08T23:18:49.665Z"
   },
   {
    "duration": 0,
    "start_time": "2022-06-08T23:18:49.667Z"
   },
   {
    "duration": 0,
    "start_time": "2022-06-08T23:18:49.668Z"
   },
   {
    "duration": 0,
    "start_time": "2022-06-08T23:18:49.669Z"
   },
   {
    "duration": 0,
    "start_time": "2022-06-08T23:18:49.671Z"
   },
   {
    "duration": 0,
    "start_time": "2022-06-08T23:18:49.673Z"
   },
   {
    "duration": 0,
    "start_time": "2022-06-08T23:18:49.674Z"
   },
   {
    "duration": 0,
    "start_time": "2022-06-08T23:18:49.675Z"
   },
   {
    "duration": 0,
    "start_time": "2022-06-08T23:18:49.676Z"
   },
   {
    "duration": 0,
    "start_time": "2022-06-08T23:18:49.678Z"
   },
   {
    "duration": 0,
    "start_time": "2022-06-08T23:18:49.679Z"
   },
   {
    "duration": 3938,
    "start_time": "2022-06-08T23:19:19.530Z"
   },
   {
    "duration": 767,
    "start_time": "2022-06-08T23:19:23.470Z"
   },
   {
    "duration": 11,
    "start_time": "2022-06-08T23:19:24.239Z"
   },
   {
    "duration": 3,
    "start_time": "2022-06-08T23:19:24.259Z"
   },
   {
    "duration": 7,
    "start_time": "2022-06-08T23:19:24.264Z"
   },
   {
    "duration": 33,
    "start_time": "2022-06-08T23:19:24.272Z"
   },
   {
    "duration": 28,
    "start_time": "2022-06-08T23:19:24.307Z"
   },
   {
    "duration": 265,
    "start_time": "2022-06-08T23:19:24.336Z"
   },
   {
    "duration": 398,
    "start_time": "2022-06-08T23:19:24.602Z"
   },
   {
    "duration": 5,
    "start_time": "2022-06-08T23:19:25.001Z"
   },
   {
    "duration": 8,
    "start_time": "2022-06-08T23:19:25.008Z"
   },
   {
    "duration": 17,
    "start_time": "2022-06-08T23:19:25.017Z"
   },
   {
    "duration": 15,
    "start_time": "2022-06-08T23:19:25.036Z"
   },
   {
    "duration": 10,
    "start_time": "2022-06-08T23:19:25.054Z"
   },
   {
    "duration": 17,
    "start_time": "2022-06-08T23:19:25.066Z"
   },
   {
    "duration": 3,
    "start_time": "2022-06-08T23:19:25.084Z"
   },
   {
    "duration": 18,
    "start_time": "2022-06-08T23:19:25.088Z"
   },
   {
    "duration": 51,
    "start_time": "2022-06-08T23:19:25.108Z"
   },
   {
    "duration": 4,
    "start_time": "2022-06-08T23:19:25.160Z"
   },
   {
    "duration": 11,
    "start_time": "2022-06-08T23:19:25.166Z"
   },
   {
    "duration": 153,
    "start_time": "2022-06-08T23:19:25.178Z"
   },
   {
    "duration": 11,
    "start_time": "2022-06-08T23:19:25.332Z"
   },
   {
    "duration": 319,
    "start_time": "2022-06-08T23:19:25.345Z"
   },
   {
    "duration": 0,
    "start_time": "2022-06-08T23:19:25.666Z"
   },
   {
    "duration": 0,
    "start_time": "2022-06-08T23:19:25.667Z"
   },
   {
    "duration": 0,
    "start_time": "2022-06-08T23:19:25.668Z"
   },
   {
    "duration": 0,
    "start_time": "2022-06-08T23:19:25.669Z"
   },
   {
    "duration": 0,
    "start_time": "2022-06-08T23:19:25.670Z"
   },
   {
    "duration": 0,
    "start_time": "2022-06-08T23:19:25.671Z"
   },
   {
    "duration": 0,
    "start_time": "2022-06-08T23:19:25.672Z"
   },
   {
    "duration": 0,
    "start_time": "2022-06-08T23:19:25.673Z"
   },
   {
    "duration": 0,
    "start_time": "2022-06-08T23:19:25.674Z"
   },
   {
    "duration": 0,
    "start_time": "2022-06-08T23:19:25.675Z"
   },
   {
    "duration": 0,
    "start_time": "2022-06-08T23:19:25.676Z"
   },
   {
    "duration": 0,
    "start_time": "2022-06-08T23:19:25.676Z"
   },
   {
    "duration": 0,
    "start_time": "2022-06-08T23:19:25.677Z"
   },
   {
    "duration": 0,
    "start_time": "2022-06-08T23:19:25.678Z"
   },
   {
    "duration": 0,
    "start_time": "2022-06-08T23:19:25.679Z"
   },
   {
    "duration": 0,
    "start_time": "2022-06-08T23:19:25.680Z"
   },
   {
    "duration": 0,
    "start_time": "2022-06-08T23:19:25.681Z"
   },
   {
    "duration": 0,
    "start_time": "2022-06-08T23:19:25.682Z"
   },
   {
    "duration": 0,
    "start_time": "2022-06-08T23:19:25.682Z"
   },
   {
    "duration": 0,
    "start_time": "2022-06-08T23:19:25.683Z"
   },
   {
    "duration": 0,
    "start_time": "2022-06-08T23:19:25.684Z"
   },
   {
    "duration": 0,
    "start_time": "2022-06-08T23:19:25.685Z"
   },
   {
    "duration": 22,
    "start_time": "2022-06-08T23:19:58.483Z"
   },
   {
    "duration": 19,
    "start_time": "2022-06-08T23:20:08.140Z"
   },
   {
    "duration": 20,
    "start_time": "2022-06-08T23:20:13.487Z"
   },
   {
    "duration": 22,
    "start_time": "2022-06-08T23:20:19.463Z"
   },
   {
    "duration": 4160,
    "start_time": "2022-06-08T23:21:19.202Z"
   },
   {
    "duration": 795,
    "start_time": "2022-06-08T23:21:23.364Z"
   },
   {
    "duration": 11,
    "start_time": "2022-06-08T23:21:24.160Z"
   },
   {
    "duration": 12,
    "start_time": "2022-06-08T23:21:24.173Z"
   },
   {
    "duration": 10,
    "start_time": "2022-06-08T23:21:24.187Z"
   },
   {
    "duration": 45,
    "start_time": "2022-06-08T23:21:24.199Z"
   },
   {
    "duration": 38,
    "start_time": "2022-06-08T23:21:24.245Z"
   },
   {
    "duration": 248,
    "start_time": "2022-06-08T23:21:24.285Z"
   },
   {
    "duration": 386,
    "start_time": "2022-06-08T23:21:24.535Z"
   },
   {
    "duration": 6,
    "start_time": "2022-06-08T23:21:24.922Z"
   },
   {
    "duration": 29,
    "start_time": "2022-06-08T23:21:24.930Z"
   },
   {
    "duration": 21,
    "start_time": "2022-06-08T23:21:24.961Z"
   },
   {
    "duration": 21,
    "start_time": "2022-06-08T23:21:24.984Z"
   },
   {
    "duration": 17,
    "start_time": "2022-06-08T23:21:25.008Z"
   },
   {
    "duration": 34,
    "start_time": "2022-06-08T23:21:25.026Z"
   },
   {
    "duration": 13,
    "start_time": "2022-06-08T23:21:25.063Z"
   },
   {
    "duration": 45,
    "start_time": "2022-06-08T23:21:25.078Z"
   },
   {
    "duration": 62,
    "start_time": "2022-06-08T23:21:25.125Z"
   },
   {
    "duration": 3,
    "start_time": "2022-06-08T23:21:25.189Z"
   },
   {
    "duration": 28,
    "start_time": "2022-06-08T23:21:25.193Z"
   },
   {
    "duration": 201,
    "start_time": "2022-06-08T23:21:25.223Z"
   },
   {
    "duration": 11,
    "start_time": "2022-06-08T23:21:25.426Z"
   },
   {
    "duration": 327,
    "start_time": "2022-06-08T23:21:25.439Z"
   },
   {
    "duration": 1,
    "start_time": "2022-06-08T23:21:25.767Z"
   },
   {
    "duration": 0,
    "start_time": "2022-06-08T23:21:25.769Z"
   },
   {
    "duration": 0,
    "start_time": "2022-06-08T23:21:25.769Z"
   },
   {
    "duration": 0,
    "start_time": "2022-06-08T23:21:25.771Z"
   },
   {
    "duration": 0,
    "start_time": "2022-06-08T23:21:25.772Z"
   },
   {
    "duration": 0,
    "start_time": "2022-06-08T23:21:25.772Z"
   },
   {
    "duration": 0,
    "start_time": "2022-06-08T23:21:25.773Z"
   },
   {
    "duration": 0,
    "start_time": "2022-06-08T23:21:25.774Z"
   },
   {
    "duration": 0,
    "start_time": "2022-06-08T23:21:25.775Z"
   },
   {
    "duration": 0,
    "start_time": "2022-06-08T23:21:25.777Z"
   },
   {
    "duration": 0,
    "start_time": "2022-06-08T23:21:25.778Z"
   },
   {
    "duration": 0,
    "start_time": "2022-06-08T23:21:25.779Z"
   },
   {
    "duration": 0,
    "start_time": "2022-06-08T23:21:25.779Z"
   },
   {
    "duration": 0,
    "start_time": "2022-06-08T23:21:25.780Z"
   },
   {
    "duration": 0,
    "start_time": "2022-06-08T23:21:25.781Z"
   },
   {
    "duration": 0,
    "start_time": "2022-06-08T23:21:25.782Z"
   },
   {
    "duration": 0,
    "start_time": "2022-06-08T23:21:25.783Z"
   },
   {
    "duration": 0,
    "start_time": "2022-06-08T23:21:25.784Z"
   },
   {
    "duration": 0,
    "start_time": "2022-06-08T23:21:25.785Z"
   },
   {
    "duration": 0,
    "start_time": "2022-06-08T23:21:25.785Z"
   },
   {
    "duration": 0,
    "start_time": "2022-06-08T23:21:25.786Z"
   },
   {
    "duration": 0,
    "start_time": "2022-06-08T23:21:25.787Z"
   },
   {
    "duration": 4,
    "start_time": "2022-06-08T23:24:17.552Z"
   },
   {
    "duration": 4,
    "start_time": "2022-06-08T23:24:18.620Z"
   },
   {
    "duration": 4050,
    "start_time": "2022-06-08T23:25:42.549Z"
   },
   {
    "duration": 808,
    "start_time": "2022-06-08T23:25:46.600Z"
   },
   {
    "duration": 11,
    "start_time": "2022-06-08T23:25:47.409Z"
   },
   {
    "duration": 8,
    "start_time": "2022-06-08T23:25:47.421Z"
   },
   {
    "duration": 9,
    "start_time": "2022-06-08T23:25:47.431Z"
   },
   {
    "duration": 64,
    "start_time": "2022-06-08T23:25:47.441Z"
   },
   {
    "duration": 29,
    "start_time": "2022-06-08T23:25:47.508Z"
   },
   {
    "duration": 220,
    "start_time": "2022-06-08T23:25:47.539Z"
   },
   {
    "duration": 359,
    "start_time": "2022-06-08T23:25:47.761Z"
   },
   {
    "duration": 6,
    "start_time": "2022-06-08T23:25:48.122Z"
   },
   {
    "duration": 10,
    "start_time": "2022-06-08T23:25:48.129Z"
   },
   {
    "duration": 21,
    "start_time": "2022-06-08T23:25:48.140Z"
   },
   {
    "duration": 14,
    "start_time": "2022-06-08T23:25:48.163Z"
   },
   {
    "duration": 10,
    "start_time": "2022-06-08T23:25:48.180Z"
   },
   {
    "duration": 11,
    "start_time": "2022-06-08T23:25:48.192Z"
   },
   {
    "duration": 4,
    "start_time": "2022-06-08T23:25:48.205Z"
   },
   {
    "duration": 19,
    "start_time": "2022-06-08T23:25:48.210Z"
   },
   {
    "duration": 42,
    "start_time": "2022-06-08T23:25:48.230Z"
   },
   {
    "duration": 3,
    "start_time": "2022-06-08T23:25:48.274Z"
   },
   {
    "duration": 9,
    "start_time": "2022-06-08T23:25:48.279Z"
   },
   {
    "duration": 155,
    "start_time": "2022-06-08T23:25:48.289Z"
   },
   {
    "duration": 6,
    "start_time": "2022-06-08T23:25:48.445Z"
   },
   {
    "duration": 319,
    "start_time": "2022-06-08T23:25:48.453Z"
   },
   {
    "duration": 0,
    "start_time": "2022-06-08T23:25:48.774Z"
   },
   {
    "duration": 0,
    "start_time": "2022-06-08T23:25:48.775Z"
   },
   {
    "duration": 0,
    "start_time": "2022-06-08T23:25:48.775Z"
   },
   {
    "duration": 0,
    "start_time": "2022-06-08T23:25:48.776Z"
   },
   {
    "duration": 0,
    "start_time": "2022-06-08T23:25:48.777Z"
   },
   {
    "duration": 0,
    "start_time": "2022-06-08T23:25:48.778Z"
   },
   {
    "duration": 0,
    "start_time": "2022-06-08T23:25:48.779Z"
   },
   {
    "duration": 0,
    "start_time": "2022-06-08T23:25:48.780Z"
   },
   {
    "duration": 0,
    "start_time": "2022-06-08T23:25:48.781Z"
   },
   {
    "duration": 0,
    "start_time": "2022-06-08T23:25:48.782Z"
   },
   {
    "duration": 0,
    "start_time": "2022-06-08T23:25:48.783Z"
   },
   {
    "duration": 0,
    "start_time": "2022-06-08T23:25:48.784Z"
   },
   {
    "duration": 0,
    "start_time": "2022-06-08T23:25:48.785Z"
   },
   {
    "duration": 0,
    "start_time": "2022-06-08T23:25:48.785Z"
   },
   {
    "duration": 0,
    "start_time": "2022-06-08T23:25:48.786Z"
   },
   {
    "duration": 0,
    "start_time": "2022-06-08T23:25:48.787Z"
   },
   {
    "duration": 0,
    "start_time": "2022-06-08T23:25:48.788Z"
   },
   {
    "duration": 0,
    "start_time": "2022-06-08T23:25:48.789Z"
   },
   {
    "duration": 0,
    "start_time": "2022-06-08T23:25:48.790Z"
   },
   {
    "duration": 0,
    "start_time": "2022-06-08T23:25:48.791Z"
   },
   {
    "duration": 0,
    "start_time": "2022-06-08T23:25:48.792Z"
   },
   {
    "duration": 0,
    "start_time": "2022-06-08T23:25:48.793Z"
   },
   {
    "duration": 7,
    "start_time": "2022-06-08T23:27:01.359Z"
   },
   {
    "duration": 87801,
    "start_time": "2022-06-08T23:27:14.733Z"
   },
   {
    "duration": 8,
    "start_time": "2022-06-08T23:28:46.958Z"
   },
   {
    "duration": 11,
    "start_time": "2022-06-08T23:28:53.290Z"
   },
   {
    "duration": 12,
    "start_time": "2022-06-08T23:28:53.999Z"
   },
   {
    "duration": 12,
    "start_time": "2022-06-08T23:28:54.630Z"
   },
   {
    "duration": 2,
    "start_time": "2022-06-08T23:28:55.343Z"
   },
   {
    "duration": 13,
    "start_time": "2022-06-08T23:28:56.030Z"
   },
   {
    "duration": 58,
    "start_time": "2022-06-08T23:28:56.983Z"
   },
   {
    "duration": 4,
    "start_time": "2022-06-08T23:28:58.024Z"
   },
   {
    "duration": 4,
    "start_time": "2022-06-08T23:28:58.939Z"
   },
   {
    "duration": 21,
    "start_time": "2022-06-08T23:29:03.612Z"
   },
   {
    "duration": 3,
    "start_time": "2022-06-08T23:29:18.450Z"
   },
   {
    "duration": 4,
    "start_time": "2022-06-08T23:29:25.368Z"
   },
   {
    "duration": 6,
    "start_time": "2022-06-08T23:29:27.791Z"
   },
   {
    "duration": 21,
    "start_time": "2022-06-08T23:29:34.052Z"
   },
   {
    "duration": 6374,
    "start_time": "2022-06-08T23:30:26.692Z"
   },
   {
    "duration": 165790,
    "start_time": "2022-06-08T23:30:36.330Z"
   },
   {
    "duration": 9,
    "start_time": "2022-06-08T23:33:39.018Z"
   },
   {
    "duration": 16,
    "start_time": "2022-06-08T23:34:01.420Z"
   },
   {
    "duration": 4,
    "start_time": "2022-06-08T23:34:02.522Z"
   },
   {
    "duration": 438,
    "start_time": "2022-06-08T23:34:04.984Z"
   },
   {
    "duration": 443,
    "start_time": "2022-06-08T23:34:09.483Z"
   },
   {
    "duration": 13,
    "start_time": "2022-06-08T23:34:12.366Z"
   },
   {
    "duration": 194776,
    "start_time": "2022-06-08T23:34:15.549Z"
   },
   {
    "duration": 8,
    "start_time": "2022-06-08T23:37:30.327Z"
   },
   {
    "duration": 17,
    "start_time": "2022-06-08T23:37:30.336Z"
   },
   {
    "duration": 8,
    "start_time": "2022-06-08T23:37:30.358Z"
   },
   {
    "duration": 12,
    "start_time": "2022-06-08T23:37:30.368Z"
   },
   {
    "duration": 10,
    "start_time": "2022-06-08T23:37:30.382Z"
   },
   {
    "duration": 7,
    "start_time": "2022-06-08T23:37:30.394Z"
   },
   {
    "duration": 16,
    "start_time": "2022-06-08T23:37:30.403Z"
   },
   {
    "duration": 624,
    "start_time": "2022-06-08T23:37:30.421Z"
   },
   {
    "duration": 23,
    "start_time": "2022-06-08T23:37:31.047Z"
   },
   {
    "duration": 0,
    "start_time": "2022-06-08T23:37:31.071Z"
   },
   {
    "duration": 0,
    "start_time": "2022-06-08T23:37:31.072Z"
   },
   {
    "duration": 4,
    "start_time": "2022-06-08T23:38:25.525Z"
   },
   {
    "duration": 5468,
    "start_time": "2022-06-08T23:38:34.145Z"
   },
   {
    "duration": 2809,
    "start_time": "2022-06-08T23:38:39.615Z"
   },
   {
    "duration": 38473,
    "start_time": "2022-06-08T23:39:03.900Z"
   },
   {
    "duration": 2789,
    "start_time": "2022-06-08T23:39:45.490Z"
   },
   {
    "duration": 237441,
    "start_time": "2022-06-08T23:40:01.421Z"
   },
   {
    "duration": 96960,
    "start_time": "2022-06-08T23:44:32.412Z"
   },
   {
    "duration": 19,
    "start_time": "2022-06-08T23:46:09.373Z"
   },
   {
    "duration": 4426,
    "start_time": "2022-06-09T06:52:49.675Z"
   },
   {
    "duration": 2375,
    "start_time": "2022-06-09T06:52:54.103Z"
   },
   {
    "duration": 14,
    "start_time": "2022-06-09T06:52:56.480Z"
   },
   {
    "duration": 11,
    "start_time": "2022-06-09T06:52:56.496Z"
   },
   {
    "duration": 15,
    "start_time": "2022-06-09T06:52:56.509Z"
   },
   {
    "duration": 46,
    "start_time": "2022-06-09T06:52:56.525Z"
   },
   {
    "duration": 30,
    "start_time": "2022-06-09T06:52:56.573Z"
   },
   {
    "duration": 231,
    "start_time": "2022-06-09T06:52:56.605Z"
   },
   {
    "duration": 455,
    "start_time": "2022-06-09T06:52:56.838Z"
   },
   {
    "duration": 6,
    "start_time": "2022-06-09T06:52:57.295Z"
   },
   {
    "duration": 9,
    "start_time": "2022-06-09T06:52:57.302Z"
   },
   {
    "duration": 4392,
    "start_time": "2022-06-09T06:54:08.372Z"
   },
   {
    "duration": 821,
    "start_time": "2022-06-09T06:54:12.766Z"
   },
   {
    "duration": 11,
    "start_time": "2022-06-09T06:54:13.589Z"
   },
   {
    "duration": 14,
    "start_time": "2022-06-09T06:54:13.601Z"
   },
   {
    "duration": 5,
    "start_time": "2022-06-09T06:54:13.622Z"
   },
   {
    "duration": 50,
    "start_time": "2022-06-09T06:54:13.628Z"
   },
   {
    "duration": 34,
    "start_time": "2022-06-09T06:54:13.679Z"
   },
   {
    "duration": 257,
    "start_time": "2022-06-09T06:54:13.715Z"
   },
   {
    "duration": 438,
    "start_time": "2022-06-09T06:54:13.974Z"
   },
   {
    "duration": 12,
    "start_time": "2022-06-09T06:54:14.414Z"
   },
   {
    "duration": 485,
    "start_time": "2022-06-09T06:54:14.427Z"
   },
   {
    "duration": 2427022,
    "start_time": "2022-06-09T06:54:14.913Z"
   },
   {
    "duration": 10,
    "start_time": "2022-06-09T07:34:41.937Z"
   },
   {
    "duration": 8,
    "start_time": "2022-06-09T07:34:41.950Z"
   },
   {
    "duration": 7,
    "start_time": "2022-06-09T07:34:41.960Z"
   },
   {
    "duration": 11,
    "start_time": "2022-06-09T07:34:41.969Z"
   },
   {
    "duration": 51,
    "start_time": "2022-06-09T07:34:41.982Z"
   },
   {
    "duration": 5,
    "start_time": "2022-06-09T07:34:42.034Z"
   },
   {
    "duration": 7,
    "start_time": "2022-06-09T07:34:42.041Z"
   },
   {
    "duration": 123,
    "start_time": "2022-06-09T07:34:42.050Z"
   },
   {
    "duration": 6800,
    "start_time": "2022-06-09T07:34:42.175Z"
   },
   {
    "duration": 188266,
    "start_time": "2022-06-09T07:34:48.976Z"
   },
   {
    "duration": 1278,
    "start_time": "2022-06-09T07:37:57.244Z"
   },
   {
    "duration": 0,
    "start_time": "2022-06-09T07:37:58.534Z"
   },
   {
    "duration": 0,
    "start_time": "2022-06-09T07:37:58.536Z"
   },
   {
    "duration": 0,
    "start_time": "2022-06-09T07:37:58.538Z"
   },
   {
    "duration": 0,
    "start_time": "2022-06-09T07:37:58.539Z"
   },
   {
    "duration": 0,
    "start_time": "2022-06-09T07:37:58.540Z"
   },
   {
    "duration": 0,
    "start_time": "2022-06-09T07:37:58.541Z"
   },
   {
    "duration": 0,
    "start_time": "2022-06-09T07:37:58.543Z"
   },
   {
    "duration": 0,
    "start_time": "2022-06-09T07:37:58.544Z"
   },
   {
    "duration": 0,
    "start_time": "2022-06-09T07:37:58.546Z"
   },
   {
    "duration": 0,
    "start_time": "2022-06-09T07:37:58.547Z"
   },
   {
    "duration": 0,
    "start_time": "2022-06-09T07:37:58.549Z"
   },
   {
    "duration": 0,
    "start_time": "2022-06-09T07:37:58.550Z"
   },
   {
    "duration": 0,
    "start_time": "2022-06-09T07:37:58.551Z"
   },
   {
    "duration": 0,
    "start_time": "2022-06-09T07:37:58.553Z"
   },
   {
    "duration": 0,
    "start_time": "2022-06-09T07:37:58.554Z"
   },
   {
    "duration": 0,
    "start_time": "2022-06-09T07:37:58.555Z"
   },
   {
    "duration": 0,
    "start_time": "2022-06-09T07:37:58.557Z"
   },
   {
    "duration": 0,
    "start_time": "2022-06-09T07:37:58.558Z"
   },
   {
    "duration": 1,
    "start_time": "2022-06-09T07:37:58.559Z"
   },
   {
    "duration": 0,
    "start_time": "2022-06-09T07:37:58.561Z"
   },
   {
    "duration": 0,
    "start_time": "2022-06-09T07:37:58.562Z"
   },
   {
    "duration": 0,
    "start_time": "2022-06-09T07:37:58.564Z"
   },
   {
    "duration": 0,
    "start_time": "2022-06-09T07:37:58.565Z"
   },
   {
    "duration": 0,
    "start_time": "2022-06-09T07:37:58.567Z"
   },
   {
    "duration": 0,
    "start_time": "2022-06-09T07:37:58.568Z"
   },
   {
    "duration": 0,
    "start_time": "2022-06-09T07:37:58.570Z"
   },
   {
    "duration": 0,
    "start_time": "2022-06-09T07:37:58.571Z"
   },
   {
    "duration": 0,
    "start_time": "2022-06-09T07:37:58.572Z"
   },
   {
    "duration": 1184,
    "start_time": "2022-06-09T07:40:15.481Z"
   },
   {
    "duration": 15,
    "start_time": "2022-06-09T07:41:07.903Z"
   },
   {
    "duration": 4,
    "start_time": "2022-06-09T07:41:08.740Z"
   },
   {
    "duration": 341,
    "start_time": "2022-06-09T07:41:10.636Z"
   },
   {
    "duration": 11,
    "start_time": "2022-06-09T07:41:15.868Z"
   },
   {
    "duration": 10,
    "start_time": "2022-06-09T07:41:20.279Z"
   },
   {
    "duration": 5,
    "start_time": "2022-06-09T07:41:23.852Z"
   },
   {
    "duration": 4,
    "start_time": "2022-06-09T07:41:24.707Z"
   },
   {
    "duration": 3,
    "start_time": "2022-06-09T07:41:25.547Z"
   },
   {
    "duration": 6,
    "start_time": "2022-06-09T07:41:28.180Z"
   },
   {
    "duration": 4,
    "start_time": "2022-06-09T07:41:29.806Z"
   },
   {
    "duration": 4,
    "start_time": "2022-06-09T07:41:30.745Z"
   },
   {
    "duration": 694,
    "start_time": "2022-06-09T07:41:32.203Z"
   },
   {
    "duration": 4,
    "start_time": "2022-06-09T07:41:35.576Z"
   },
   {
    "duration": 5692,
    "start_time": "2022-06-09T07:41:39.298Z"
   },
   {
    "duration": 2893,
    "start_time": "2022-06-09T07:41:48.724Z"
   },
   {
    "duration": 40503,
    "start_time": "2022-06-09T07:41:56.724Z"
   },
   {
    "duration": 2919,
    "start_time": "2022-06-09T07:42:37.229Z"
   },
   {
    "duration": 2848,
    "start_time": "2022-06-09T07:42:48.779Z"
   },
   {
    "duration": 28,
    "start_time": "2022-06-09T07:43:00.342Z"
   },
   {
    "duration": 56529,
    "start_time": "2022-06-09T07:43:07.393Z"
   },
   {
    "duration": 938,
    "start_time": "2022-06-09T07:44:49.094Z"
   },
   {
    "duration": 113,
    "start_time": "2022-06-09T07:47:11.067Z"
   },
   {
    "duration": 6,
    "start_time": "2022-06-09T07:47:41.248Z"
   },
   {
    "duration": 22,
    "start_time": "2022-06-09T07:47:54.867Z"
   },
   {
    "duration": 4,
    "start_time": "2022-06-09T07:48:00.274Z"
   },
   {
    "duration": 377,
    "start_time": "2022-06-09T07:48:09.228Z"
   },
   {
    "duration": 8,
    "start_time": "2022-06-09T07:48:17.637Z"
   },
   {
    "duration": 8,
    "start_time": "2022-06-09T07:48:31.565Z"
   },
   {
    "duration": 4,
    "start_time": "2022-06-09T07:48:32.401Z"
   },
   {
    "duration": 4,
    "start_time": "2022-06-09T07:48:33.384Z"
   },
   {
    "duration": 11,
    "start_time": "2022-06-09T07:48:39.251Z"
   },
   {
    "duration": 4,
    "start_time": "2022-06-09T07:48:39.415Z"
   },
   {
    "duration": 5,
    "start_time": "2022-06-09T07:48:39.663Z"
   },
   {
    "duration": 1998,
    "start_time": "2022-06-09T07:48:39.813Z"
   },
   {
    "duration": 4,
    "start_time": "2022-06-09T07:48:41.813Z"
   },
   {
    "duration": 28909,
    "start_time": "2022-06-09T07:48:41.818Z"
   },
   {
    "duration": 14275,
    "start_time": "2022-06-09T07:49:10.728Z"
   },
   {
    "duration": 151578,
    "start_time": "2022-06-09T07:49:25.004Z"
   },
   {
    "duration": 200537,
    "start_time": "2022-06-09T07:51:56.584Z"
   },
   {
    "duration": 283293,
    "start_time": "2022-06-09T07:56:22.294Z"
   },
   {
    "duration": 12,
    "start_time": "2022-06-09T08:12:51.499Z"
   },
   {
    "duration": 25,
    "start_time": "2022-06-09T08:12:52.378Z"
   },
   {
    "duration": 6745,
    "start_time": "2022-06-09T08:12:54.646Z"
   },
   {
    "duration": 147527,
    "start_time": "2022-06-09T08:13:01.394Z"
   },
   {
    "duration": 674733,
    "start_time": "2022-06-09T08:15:28.923Z"
   },
   {
    "duration": 4184,
    "start_time": "2022-06-09T09:23:58.264Z"
   },
   {
    "duration": 781,
    "start_time": "2022-06-09T09:24:02.449Z"
   },
   {
    "duration": 12,
    "start_time": "2022-06-09T09:24:03.232Z"
   },
   {
    "duration": 23,
    "start_time": "2022-06-09T09:24:03.246Z"
   },
   {
    "duration": 27,
    "start_time": "2022-06-09T09:24:03.271Z"
   },
   {
    "duration": 44,
    "start_time": "2022-06-09T09:24:03.299Z"
   },
   {
    "duration": 36,
    "start_time": "2022-06-09T09:24:03.345Z"
   },
   {
    "duration": 229,
    "start_time": "2022-06-09T09:24:03.382Z"
   },
   {
    "duration": 387,
    "start_time": "2022-06-09T09:24:03.613Z"
   },
   {
    "duration": 6,
    "start_time": "2022-06-09T09:24:04.003Z"
   },
   {
    "duration": 465,
    "start_time": "2022-06-09T09:24:04.010Z"
   },
   {
    "duration": 2374657,
    "start_time": "2022-06-09T09:24:04.477Z"
   },
   {
    "duration": 7,
    "start_time": "2022-06-09T10:03:39.137Z"
   },
   {
    "duration": 26,
    "start_time": "2022-06-09T10:03:39.146Z"
   },
   {
    "duration": 11,
    "start_time": "2022-06-09T10:03:39.174Z"
   },
   {
    "duration": 10,
    "start_time": "2022-06-09T10:03:39.186Z"
   },
   {
    "duration": 15,
    "start_time": "2022-06-09T10:03:39.198Z"
   },
   {
    "duration": 67,
    "start_time": "2022-06-09T10:03:39.215Z"
   },
   {
    "duration": 6,
    "start_time": "2022-06-09T10:03:39.284Z"
   },
   {
    "duration": 16,
    "start_time": "2022-06-09T10:03:39.292Z"
   },
   {
    "duration": 157,
    "start_time": "2022-06-09T10:03:39.310Z"
   },
   {
    "duration": 6719,
    "start_time": "2022-06-09T10:03:39.469Z"
   },
   {
    "duration": 178680,
    "start_time": "2022-06-09T10:03:46.190Z"
   },
   {
    "duration": 708539,
    "start_time": "2022-06-09T10:06:44.872Z"
   },
   {
    "duration": 1708722,
    "start_time": "2022-06-09T10:18:33.413Z"
   },
   {
    "duration": 15,
    "start_time": "2022-06-09T10:47:02.137Z"
   },
   {
    "duration": 46,
    "start_time": "2022-06-09T10:47:02.154Z"
   },
   {
    "duration": 6615,
    "start_time": "2022-06-09T10:47:02.205Z"
   },
   {
    "duration": 149798,
    "start_time": "2022-06-09T10:47:08.822Z"
   },
   {
    "duration": 694507,
    "start_time": "2022-06-09T10:49:38.623Z"
   },
   {
    "duration": 4057,
    "start_time": "2022-06-09T18:20:02.582Z"
   },
   {
    "duration": 765,
    "start_time": "2022-06-09T18:20:06.640Z"
   },
   {
    "duration": 17,
    "start_time": "2022-06-09T18:20:07.406Z"
   },
   {
    "duration": 3,
    "start_time": "2022-06-09T18:20:07.424Z"
   },
   {
    "duration": 6,
    "start_time": "2022-06-09T18:20:07.429Z"
   },
   {
    "duration": 38,
    "start_time": "2022-06-09T18:20:07.436Z"
   },
   {
    "duration": 47,
    "start_time": "2022-06-09T18:20:07.476Z"
   },
   {
    "duration": 235,
    "start_time": "2022-06-09T18:20:07.525Z"
   },
   {
    "duration": 388,
    "start_time": "2022-06-09T18:20:07.762Z"
   },
   {
    "duration": 5,
    "start_time": "2022-06-09T18:20:08.152Z"
   },
   {
    "duration": 462,
    "start_time": "2022-06-09T18:20:08.159Z"
   },
   {
    "duration": 2257766,
    "start_time": "2022-06-09T18:20:08.623Z"
   },
   {
    "duration": 7,
    "start_time": "2022-06-09T18:57:46.391Z"
   },
   {
    "duration": 9,
    "start_time": "2022-06-09T18:57:46.400Z"
   },
   {
    "duration": 16,
    "start_time": "2022-06-09T18:57:46.411Z"
   },
   {
    "duration": 9,
    "start_time": "2022-06-09T18:57:46.428Z"
   },
   {
    "duration": 11,
    "start_time": "2022-06-09T18:57:46.439Z"
   },
   {
    "duration": 27,
    "start_time": "2022-06-09T18:57:46.451Z"
   },
   {
    "duration": 4,
    "start_time": "2022-06-09T18:57:46.480Z"
   },
   {
    "duration": 6,
    "start_time": "2022-06-09T18:57:46.485Z"
   },
   {
    "duration": 173,
    "start_time": "2022-06-09T18:57:46.493Z"
   },
   {
    "duration": 6429,
    "start_time": "2022-06-09T18:57:46.667Z"
   },
   {
    "duration": 170384,
    "start_time": "2022-06-09T18:57:53.098Z"
   },
   {
    "duration": 668375,
    "start_time": "2022-06-09T19:00:43.483Z"
   },
   {
    "duration": 1696798,
    "start_time": "2022-06-09T19:11:51.860Z"
   },
   {
    "duration": 12,
    "start_time": "2022-06-09T19:40:08.660Z"
   },
   {
    "duration": 31,
    "start_time": "2022-06-09T19:40:08.674Z"
   },
   {
    "duration": 6112,
    "start_time": "2022-06-09T19:40:08.707Z"
   },
   {
    "duration": 137935,
    "start_time": "2022-06-09T19:40:14.820Z"
   },
   {
    "duration": 644661,
    "start_time": "2022-06-09T19:42:32.757Z"
   },
   {
    "duration": 5,
    "start_time": "2022-06-09T19:53:17.420Z"
   },
   {
    "duration": 10,
    "start_time": "2022-06-09T19:53:17.426Z"
   },
   {
    "duration": 22,
    "start_time": "2022-06-09T19:53:17.438Z"
   },
   {
    "duration": 3,
    "start_time": "2022-06-09T19:53:17.462Z"
   },
   {
    "duration": 384,
    "start_time": "2022-06-09T19:53:17.467Z"
   },
   {
    "duration": 7,
    "start_time": "2022-06-09T19:53:17.853Z"
   },
   {
    "duration": 9,
    "start_time": "2022-06-09T19:53:17.861Z"
   },
   {
    "duration": 6,
    "start_time": "2022-06-09T19:53:17.872Z"
   },
   {
    "duration": 5,
    "start_time": "2022-06-09T19:53:17.880Z"
   },
   {
    "duration": 12,
    "start_time": "2022-06-09T19:53:17.887Z"
   },
   {
    "duration": 4,
    "start_time": "2022-06-09T19:53:17.925Z"
   },
   {
    "duration": 6,
    "start_time": "2022-06-09T19:53:17.931Z"
   },
   {
    "duration": 2012,
    "start_time": "2022-06-09T19:53:17.938Z"
   },
   {
    "duration": 5,
    "start_time": "2022-06-09T19:53:19.952Z"
   },
   {
    "duration": 27536,
    "start_time": "2022-06-09T19:53:19.958Z"
   },
   {
    "duration": 14160,
    "start_time": "2022-06-09T19:53:47.496Z"
   },
   {
    "duration": 147207,
    "start_time": "2022-06-09T19:54:01.657Z"
   },
   {
    "duration": 187861,
    "start_time": "2022-06-09T19:56:28.865Z"
   },
   {
    "duration": 219096,
    "start_time": "2022-06-09T19:59:36.728Z"
   },
   {
    "duration": 429224,
    "start_time": "2022-06-09T20:03:15.826Z"
   },
   {
    "duration": 4,
    "start_time": "2022-06-09T20:46:55.932Z"
   },
   {
    "duration": 6,
    "start_time": "2022-06-09T20:46:58.561Z"
   }
  ],
  "kernelspec": {
   "display_name": "Python 3 (ipykernel)",
   "language": "python",
   "name": "python3"
  },
  "language_info": {
   "codemirror_mode": {
    "name": "ipython",
    "version": 3
   },
   "file_extension": ".py",
   "mimetype": "text/x-python",
   "name": "python",
   "nbconvert_exporter": "python",
   "pygments_lexer": "ipython3",
   "version": "3.10.9"
  },
  "toc": {
   "base_numbering": 1,
   "nav_menu": {},
   "number_sections": true,
   "sideBar": true,
   "skip_h1_title": true,
   "title_cell": "Содержание",
   "title_sidebar": "Contents",
   "toc_cell": true,
   "toc_position": {
    "height": "calc(100% - 180px)",
    "left": "10px",
    "top": "150px",
    "width": "302.391px"
   },
   "toc_section_display": true,
   "toc_window_display": false
  }
 },
 "nbformat": 4,
 "nbformat_minor": 2
}
